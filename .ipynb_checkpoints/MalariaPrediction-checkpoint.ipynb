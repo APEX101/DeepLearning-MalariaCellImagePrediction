{
 "cells": [
  {
   "cell_type": "code",
   "execution_count": null,
   "metadata": {
    "id": "ZyUbGLOrAiiL"
   },
   "outputs": [],
   "source": []
  },
  {
   "cell_type": "code",
   "execution_count": 3,
   "metadata": {
    "colab": {
     "base_uri": "https://localhost:8080/"
    },
    "id": "c-y5dwJjc-Vt",
    "outputId": "21def856-e101-4353-9ec6-82bd13e21e20"
   },
   "outputs": [
    {
     "name": "stdout",
     "output_type": "stream",
     "text": [
      "Tue Aug 10 13:51:53 2021       \n",
      "+-----------------------------------------------------------------------------+\n",
      "| NVIDIA-SMI 470.42.01    Driver Version: 460.32.03    CUDA Version: 11.2     |\n",
      "|-------------------------------+----------------------+----------------------+\n",
      "| GPU  Name        Persistence-M| Bus-Id        Disp.A | Volatile Uncorr. ECC |\n",
      "| Fan  Temp  Perf  Pwr:Usage/Cap|         Memory-Usage | GPU-Util  Compute M. |\n",
      "|                               |                      |               MIG M. |\n",
      "|===============================+======================+======================|\n",
      "|   0  Tesla K80           Off  | 00000000:00:04.0 Off |                    0 |\n",
      "| N/A   58C    P8    30W / 149W |      0MiB / 11441MiB |      0%      Default |\n",
      "|                               |                      |                  N/A |\n",
      "+-------------------------------+----------------------+----------------------+\n",
      "                                                                               \n",
      "+-----------------------------------------------------------------------------+\n",
      "| Processes:                                                                  |\n",
      "|  GPU   GI   CI        PID   Type   Process name                  GPU Memory |\n",
      "|        ID   ID                                                   Usage      |\n",
      "|=============================================================================|\n",
      "|  No running processes found                                                 |\n",
      "+-----------------------------------------------------------------------------+\n"
     ]
    }
   ],
   "source": [
    "!nvidia-smi"
   ]
  },
  {
   "cell_type": "code",
   "execution_count": 4,
   "metadata": {
    "colab": {
     "base_uri": "https://localhost:8080/"
    },
    "id": "1JNcH-mneRpp",
    "outputId": "9038ce7e-0a99-4ed9-e390-7d6e4221aaa4"
   },
   "outputs": [
    {
     "name": "stdout",
     "output_type": "stream",
     "text": [
      "Drive already mounted at /content/drive; to attempt to forcibly remount, call drive.mount(\"/content/drive\", force_remount=True).\n"
     ]
    }
   ],
   "source": [
    "from google.colab import drive\n",
    "drive.mount ('/content/drive')"
   ]
  },
  {
   "cell_type": "code",
   "execution_count": 5,
   "metadata": {
    "colab": {
     "base_uri": "https://localhost:8080/"
    },
    "id": "lPBTOYjKeW_2",
    "outputId": "13c15d07-1e07-4172-d8db-7aac14c7ed07"
   },
   "outputs": [
    {
     "name": "stdout",
     "output_type": "stream",
     "text": [
      "drive  sample_data\n"
     ]
    }
   ],
   "source": [
    "!ls"
   ]
  },
  {
   "cell_type": "markdown",
   "metadata": {
    "id": "h1HmIVrwekPW"
   },
   "source": [
    "# Data PreProcessing"
   ]
  },
  {
   "cell_type": "code",
   "execution_count": 6,
   "metadata": {
    "id": "BKk2mRzVevrG"
   },
   "outputs": [],
   "source": [
    "import numpy as np\n",
    "import matplotlib.pyplot as plt\n",
    "import seaborn as sns\n",
    "import pandas as pd\n",
    "\n",
    "%matplotlib inline"
   ]
  },
  {
   "cell_type": "code",
   "execution_count": 7,
   "metadata": {
    "colab": {
     "base_uri": "https://localhost:8080/"
    },
    "id": "4X6jovWre8tm",
    "outputId": "54473f62-3699-46c1-88a0-d397d0d33927"
   },
   "outputs": [
    {
     "name": "stdout",
     "output_type": "stream",
     "text": [
      "/content/drive/MyDrive/CNN MalariaCell Predictor\n"
     ]
    }
   ],
   "source": [
    "%cd \"/content/drive/MyDrive/CNN MalariaCell Predictor\""
   ]
  },
  {
   "cell_type": "code",
   "execution_count": 8,
   "metadata": {
    "colab": {
     "base_uri": "https://localhost:8080/"
    },
    "id": "ZtPDUX9tf8im",
    "outputId": "01274853-9339-45d9-a109-8c0b37bee3ee"
   },
   "outputs": [
    {
     "name": "stdout",
     "output_type": "stream",
     "text": [
      "cell_images  cell_images.zip\n"
     ]
    }
   ],
   "source": [
    "!ls"
   ]
  },
  {
   "cell_type": "code",
   "execution_count": 9,
   "metadata": {
    "id": "t_LrxjKlgCUW"
   },
   "outputs": [],
   "source": [
    "#Unzipping the images file\n",
    "# !unzip '/content/drive/MyDrive/CNN MalariaCell Predictor/cell_images.zip' -d  '/content/drive/MyDrive/CNN MalariaCell Predictor'"
   ]
  },
  {
   "cell_type": "code",
   "execution_count": 9,
   "metadata": {
    "id": "EHTYTzWVgYC2"
   },
   "outputs": [],
   "source": []
  },
  {
   "cell_type": "markdown",
   "metadata": {
    "id": "Mc-7VvSmiG9u"
   },
   "source": [
    "## Creating Paths"
   ]
  },
  {
   "cell_type": "code",
   "execution_count": 10,
   "metadata": {
    "id": "HmO5fsW0iJe1"
   },
   "outputs": [],
   "source": [
    "import os"
   ]
  },
  {
   "cell_type": "code",
   "execution_count": 11,
   "metadata": {
    "id": "OYc737WfiN4l"
   },
   "outputs": [],
   "source": [
    "#Train and Test directories\n",
    "train_dir = '/content/drive/MyDrive/CNN MalariaCell Predictor/cell_images/train'\n",
    "test_dir = '/content/drive/MyDrive/CNN MalariaCell Predictor/cell_images/test'"
   ]
  },
  {
   "cell_type": "code",
   "execution_count": 12,
   "metadata": {
    "colab": {
     "base_uri": "https://localhost:8080/"
    },
    "id": "HtJk1NMoiQUW",
    "outputId": "2d0a29d7-ad3a-4833-ef96-ba921c758035"
   },
   "outputs": [
    {
     "data": {
      "text/plain": [
       "['parasitized', 'uninfected']"
      ]
     },
     "execution_count": 12,
     "metadata": {
      "tags": []
     },
     "output_type": "execute_result"
    }
   ],
   "source": [
    "os.listdir(train_dir)"
   ]
  },
  {
   "cell_type": "code",
   "execution_count": 13,
   "metadata": {
    "id": "sSznhdg1ibVY"
   },
   "outputs": [],
   "source": [
    "#Making Train paths for both classes\n",
    "infected_cell = train_dir+'/parasitized'\n",
    "uninfected_cell = train_dir+'/uninfected'\n"
   ]
  },
  {
   "cell_type": "code",
   "execution_count": 14,
   "metadata": {
    "colab": {
     "base_uri": "https://localhost:8080/"
    },
    "id": "nfC1NQGRknb2",
    "outputId": "5bb9a612-dd1e-47d2-a7ae-bf6918398a26"
   },
   "outputs": [
    {
     "data": {
      "text/plain": [
       "['C93P54ThinF_IMG_20150821_163815_cell_209.png',\n",
       " 'C84P45ThinF_IMG_20150818_102325_cell_80.png',\n",
       " 'C93P54ThinF_IMG_20150821_162901_cell_147.png',\n",
       " 'C73P34_ThinF_IMG_20150815_111114_cell_77.png',\n",
       " 'C76P37ThinF_IMG_20150815_172808_cell_155.png',\n",
       " 'C71P32_ThinF_IMG_20150813_162146_cell_183.png',\n",
       " 'C84P45ThinF_IMG_20150818_102325_cell_6.png',\n",
       " 'C70P31_ThinF_IMG_20150813_131330_cell_35.png',\n",
       " 'C71P32_ThinF_IMG_20150813_162016_cell_209.png',\n",
       " 'C92P53ThinF_IMG_20150821_151646_cell_46.png',\n",
       " 'C91P52ThinF_IMG_20150821_123314_cell_25.png',\n",
       " 'C84P45ThinF_IMG_20150818_101412_cell_85.png',\n",
       " 'C88P49ThinF_IMG_20150820_150141_cell_77.png',\n",
       " 'C80P41ThinF_IMG_20150817_110834_cell_23.png',\n",
       " 'C79P40ThinF_IMG_20150817_103303_cell_54.png',\n",
       " 'C83P44ThinF_IMG_20150817_133609_cell_59.png',\n",
       " 'C88P49ThinF_IMG_20150820_151626_cell_10.png',\n",
       " 'C71P32_ThinF_IMG_20150813_161634_cell_128.png',\n",
       " 'C89P50ThinF_IMG_20150820_162504_cell_28.png',\n",
       " 'C74P35_ThinF_IMG_20150815_114555_cell_37.png',\n",
       " 'C71P32_ThinF_IMG_20150813_161634_cell_189.png',\n",
       " 'C83P44ThinF_IMG_20150817_134820_cell_100.png',\n",
       " 'C87P48ThinF_IMG_20150820_132514_cell_150.png',\n",
       " 'C92P53ThinF_IMG_20150821_150718_cell_200.png',\n",
       " 'C90P51ThinF_IMG_20150821_115700_cell_62.png',\n",
       " 'C90P51ThinF_IMG_20150821_115056_cell_224.png',\n",
       " 'C81P42ThinF_IMG_20150817_120712_cell_57.png',\n",
       " 'C77P38ThinF_IMG_20150602_143650_cell_25.png',\n",
       " 'C76P37ThinF_IMG_20150815_172902_cell_62.png',\n",
       " 'C71P32_ThinF_IMG_20150813_161634_cell_68.png',\n",
       " 'C90P51ThinF_IMG_20150821_115056_cell_208.png',\n",
       " 'C78P39ThinF_IMG_20150606_104426_cell_27.png',\n",
       " 'C88P49ThinF_IMG_20150820_151451_cell_89.png',\n",
       " 'C86P47ThinF_IMG_20150820_123717_cell_136.png',\n",
       " 'C94P55ThinF_IMG_20150821_170021_cell_154.png',\n",
       " 'C7NthinF_IMG_20150611_104824_cell_61.png',\n",
       " 'C86P47ThinF_IMG_20150820_124025_cell_153.png',\n",
       " 'C76P37ThinF_IMG_20150815_165356_cell_174.png',\n",
       " 'C72P33_ThinF_IMG_20150815_105823_cell_175.png',\n",
       " 'C79P40ThinF_IMG_20150817_103139_cell_86.png',\n",
       " 'C83P44ThinF_IMG_20150817_133355_cell_150.png',\n",
       " 'C88P49ThinF_IMG_20150820_152521_cell_171.png',\n",
       " 'C93P54ThinF_IMG_20150821_162641_cell_173.png',\n",
       " 'C76P37ThinF_IMG_20150815_165356_cell_168.png',\n",
       " 'C84P45ThinF_IMG_20150818_102507_cell_63.png',\n",
       " 'C81P42ThinF_IMG_20150817_115942_cell_160.png',\n",
       " 'C88P49ThinF_IMG_20150820_150724_cell_163.png',\n",
       " 'C87P48ThinF_IMG_20150820_132327_cell_122.png',\n",
       " 'C91P52ThinF_IMG_20150821_124937_cell_36.png',\n",
       " 'C73P34_ThinF_IMG_20150815_111422_cell_126.png',\n",
       " 'C70P31_ThinF_IMG_20150813_130510_cell_67.png',\n",
       " 'C75P36_ThinF_IMG_20150815_163225_cell_62.png',\n",
       " 'C78P39ThinF_IMG_20150606_104106_cell_53.png',\n",
       " 'C83P44ThinF_IMG_20150817_133218_cell_118.png',\n",
       " 'C88P49ThinF_IMG_20150820_152521_cell_110.png',\n",
       " 'C89P50ThinF_IMG_20150820_163728_cell_78.png',\n",
       " 'C93P54ThinF_IMG_20150821_163640_cell_42.png',\n",
       " 'C92P53ThinF_IMG_20150821_150718_cell_181.png',\n",
       " 'C78P39ThinF_IMG_20150606_104936_cell_118.png',\n",
       " 'C85P46ThinF_IMG_20150820_105301_cell_110.png',\n",
       " 'C85P46ThinF_IMG_20150820_110040_cell_99.png',\n",
       " 'C77P38ThinF_IMG_20150602_142303_cell_114.png',\n",
       " 'C83P44ThinF_IMG_20150817_133218_cell_150.png',\n",
       " 'C86P47ThinF_IMG_20150820_125057_cell_62.png',\n",
       " 'C85P46ThinF_IMG_20150820_105301_cell_55.png',\n",
       " 'C71P32_ThinF_IMG_20150813_162146_cell_121.png',\n",
       " 'C80P41ThinF_IMG_20150817_110957_cell_87.png',\n",
       " 'C75P36_ThinF_IMG_20150815_163147_cell_86.png',\n",
       " 'C73P34_ThinF_IMG_20150815_111653_cell_36.png',\n",
       " 'C81P42ThinF_IMG_20150817_120351_cell_142.png',\n",
       " 'C82P43ThinF_IMG_20150817_123500_cell_191.png',\n",
       " 'C87P48ThinF_IMG_20150820_141913_cell_134.png',\n",
       " 'C87P48ThinF_IMG_20150820_141913_cell_150.png',\n",
       " 'C88P49ThinF_IMG_20150820_152521_cell_159.png',\n",
       " 'C95P56ThinF_IMG_20150821_171603_cell_75.png',\n",
       " 'C82P43ThinF_IMG_20150817_123500_cell_96.png',\n",
       " 'C96P57ThinF_IMG_20150824_105213_cell_32.png',\n",
       " 'C89P50ThinF_IMG_20150820_162504_cell_119.png',\n",
       " 'C95P56ThinF_IMG_20150821_171242_cell_21.png',\n",
       " 'C72P33_ThinF_IMG_20150815_104923_cell_27.png',\n",
       " 'C72P33_ThinF_IMG_20150815_104045_cell_62.png',\n",
       " 'C87P48ThinF_IMG_20150820_132642_cell_5.png',\n",
       " 'C87P48ThinF_IMG_20150820_144855_cell_83.png',\n",
       " 'C95P56ThinF_IMG_20150821_171603_cell_46.png',\n",
       " 'C7NthinF_IMG_20150611_105444_cell_147.png',\n",
       " 'C76P37ThinF_IMG_20150815_172808_cell_186.png',\n",
       " 'C84P45ThinF_IMG_20150818_102507_cell_75.png',\n",
       " 'C92P53ThinF_IMG_20150821_151722_cell_57.png',\n",
       " 'C90P51ThinF_IMG_20150821_115310_cell_33.png',\n",
       " 'C7NthinF_IMG_20150611_105444_cell_195.png',\n",
       " 'C73P34_ThinF_IMG_20150815_111422_cell_157.png',\n",
       " 'C89P50ThinF_IMG_20150820_162153_cell_96.png',\n",
       " 'C92P53ThinF_IMG_20150821_150457_cell_134.png',\n",
       " 'C90P51ThinF_IMG_20150821_115846_cell_106.png',\n",
       " 'C84P45ThinF_IMG_20150818_101056_cell_68.png',\n",
       " 'C75P36_ThinF_IMG_20150815_162935_cell_82.png',\n",
       " 'C83P44ThinF_IMG_20150817_133609_cell_88.png',\n",
       " 'C89P50ThinF_IMG_20150820_162504_cell_53.png',\n",
       " 'C76P37ThinF_IMG_20150815_165356_cell_157.png',\n",
       " 'C81P42ThinF_IMG_20150817_120524_cell_115.png',\n",
       " 'C77P38ThinF_IMG_20150602_142303_cell_18.png',\n",
       " 'C82P43ThinF_IMG_20150817_123500_cell_131.png',\n",
       " 'C94P55ThinF_IMG_20150821_170249_cell_174.png',\n",
       " 'C76P37ThinF_IMG_20150815_165356_cell_95.png',\n",
       " 'C86P47ThinF_IMG_20150820_123717_cell_115.png',\n",
       " 'C93P54ThinF_IMG_20150821_163452_cell_163.png',\n",
       " 'C86P47ThinF_IMG_20150820_125057_cell_212.png',\n",
       " 'C83P44ThinF_IMG_20150817_133218_cell_169.png',\n",
       " 'C82P43ThinF_IMG_20150817_123500_cell_148.png',\n",
       " 'C75P36_ThinF_IMG_20150815_162935_cell_36.png',\n",
       " 'C84P45ThinF_IMG_20150818_102325_cell_1.png',\n",
       " 'C88P49ThinF_IMG_20150820_151626_cell_125.png',\n",
       " 'C94P55ThinF_IMG_20150821_165519_cell_135.png',\n",
       " 'C95P56ThinF_IMG_20150821_172351_cell_13.png',\n",
       " 'C76P37ThinF_IMG_20150815_171454_cell_112.png',\n",
       " 'C86P47ThinF_IMG_20150820_124943_cell_207.png',\n",
       " 'C91P52ThinF_IMG_20150821_124739_cell_4.png',\n",
       " 'C70P31_ThinF_IMG_20150813_130849_cell_2.png',\n",
       " 'C94P55ThinF_IMG_20150821_165118_cell_95.png',\n",
       " 'C73P34_ThinF_IMG_20150815_111501_cell_58.png',\n",
       " 'C89P50ThinF_IMG_20150820_162813_cell_191.png',\n",
       " 'C92P53ThinF_IMG_20150821_151722_cell_93.png',\n",
       " 'C85P46ThinF_IMG_20150820_105748_cell_128.png',\n",
       " 'C7NthinF_IMG_20150611_104510_cell_128.png',\n",
       " 'C95P56ThinF_IMG_20150821_171701_cell_14.png',\n",
       " 'C83P44ThinF_IMG_20150817_133355_cell_1.png',\n",
       " 'C80P41ThinF_IMG_20150817_110608_cell_1.png',\n",
       " 'C95P56ThinF_IMG_20150821_171242_cell_28.png',\n",
       " 'C80P41ThinF_IMG_20150817_111121_cell_125.png',\n",
       " 'C70P31_ThinF_IMG_20150819_141403_cell_66.png',\n",
       " 'C90P51ThinF_IMG_20150821_115056_cell_113.png',\n",
       " 'C79P40ThinF_IMG_20150817_104745_cell_120.png',\n",
       " 'C70P31_ThinF_IMG_20150813_131330_cell_57.png',\n",
       " 'C88P49ThinF_IMG_20150820_150724_cell_104.png',\n",
       " 'C83P44ThinF_IMG_20150817_133218_cell_113.png',\n",
       " 'C94P55ThinF_IMG_20150821_170403_cell_53.png',\n",
       " 'C91P52ThinF_IMG_20150821_123116_cell_106.png',\n",
       " 'C93P54ThinF_IMG_20150821_163815_cell_183.png',\n",
       " 'C80P41ThinF_IMG_20150817_110608_cell_33.png',\n",
       " 'C77P38ThinF_IMG_20150601_152941_cell_83.png',\n",
       " 'C80P41ThinF_IMG_20150817_111544_cell_92.png',\n",
       " 'C90P51ThinF_IMG_20150821_115846_cell_43.png',\n",
       " 'C94P55ThinF_IMG_20150821_170249_cell_223.png',\n",
       " 'C70P31_ThinF_IMG_20150819_141436_cell_87.png',\n",
       " 'C76P37ThinF_IMG_20150815_165356_cell_109.png',\n",
       " 'C76P37ThinF_IMG_20150815_172808_cell_170.png',\n",
       " 'C74P35_ThinF_IMG_20150815_114555_cell_86.png',\n",
       " 'C81P42ThinF_IMG_20150817_121113_cell_53.png',\n",
       " 'C85P46ThinF_IMG_20150820_110040_cell_185.png',\n",
       " 'C91P52ThinF_IMG_20150821_124739_cell_167.png',\n",
       " 'C70P31_ThinF_IMG_20150819_142744_cell_86.png',\n",
       " 'C85P46ThinF_IMG_20150820_105748_cell_201.png',\n",
       " 'C78P39ThinF_IMG_20150606_104426_cell_14.png',\n",
       " 'C89P50ThinF_IMG_20150820_163347_cell_13.png',\n",
       " 'C92P53ThinF_IMG_20150821_150718_cell_144.png',\n",
       " 'C89P50ThinF_IMG_20150820_162300_cell_1.png',\n",
       " 'C95P56ThinF_IMG_20150821_171242_cell_95.png',\n",
       " 'C95P56ThinF_IMG_20150821_172319_cell_98.png',\n",
       " 'C93P54ThinF_IMG_20150821_162641_cell_150.png',\n",
       " 'C80P41ThinF_IMG_20150817_110834_cell_73.png',\n",
       " 'C82P43ThinF_IMG_20150817_123824_cell_4.png',\n",
       " 'C74P35_ThinF_IMG_20150815_120957_cell_40.png',\n",
       " 'C70P31_ThinF_IMG_20150813_131609_cell_50.png',\n",
       " 'C73P34_ThinF_IMG_20150815_111653_cell_32.png',\n",
       " 'C88P49ThinF_IMG_20150820_153042_cell_115.png',\n",
       " 'C92P53ThinF_IMG_20150821_151224_cell_91.png',\n",
       " 'C89P50ThinF_IMG_20150820_162813_cell_63.png',\n",
       " 'C73P34_ThinF_IMG_20150815_111501_cell_164.png',\n",
       " 'C94P55ThinF_IMG_20150821_165118_cell_108.png',\n",
       " 'C93P54ThinF_IMG_20150821_163452_cell_126.png',\n",
       " 'C71P32_ThinF_IMG_20150813_162016_cell_44.png',\n",
       " 'C70P31_ThinF_IMG_20150813_130849_cell_26.png',\n",
       " 'C85P46ThinF_IMG_20150820_105301_cell_80.png',\n",
       " 'C70P31_ThinF_IMG_20150813_130849_cell_46.png',\n",
       " 'C77P38ThinF_IMG_20150602_111510_cell_120.png',\n",
       " 'C80P41ThinF_IMG_20150817_111121_cell_83.png',\n",
       " 'C93P54ThinF_IMG_20150821_162641_cell_203.png',\n",
       " 'C89P50ThinF_IMG_20150820_162504_cell_178.png',\n",
       " 'C75P36_ThinF_IMG_20150815_163742_cell_51.png',\n",
       " 'C7NthinF_IMG_20150611_104753_cell_163.png',\n",
       " 'C84P45ThinF_IMG_20150818_101226_cell_55.png',\n",
       " 'C75P36_ThinF_IMG_20150815_163225_cell_164.png',\n",
       " 'C70P31_ThinF_IMG_20150819_141730_cell_53.png',\n",
       " 'C86P47ThinF_IMG_20150820_124025_cell_82.png',\n",
       " 'C88P49ThinF_IMG_20150820_151451_cell_185.png',\n",
       " 'C95P56ThinF_IMG_20150821_172222_cell_22.png',\n",
       " 'C91P52ThinF_IMG_20150821_125154_cell_117.png',\n",
       " 'C87P48ThinF_IMG_20150820_132514_cell_94.png',\n",
       " 'C89P50ThinF_IMG_20150820_163347_cell_195.png',\n",
       " 'C88P49ThinF_IMG_20150820_151626_cell_15.png',\n",
       " 'C91P52ThinF_IMG_20150821_124937_cell_173.png',\n",
       " 'C74P35_ThinF_IMG_20150815_121324_cell_24.png',\n",
       " 'C90P51ThinF_IMG_20150821_115310_cell_155.png',\n",
       " 'C82P43ThinF_IMG_20150817_123652_cell_34.png',\n",
       " 'C7NthinF_IMG_20150611_104510_cell_82.png',\n",
       " 'C94P55ThinF_IMG_20150821_170403_cell_30.png',\n",
       " 'C81P42ThinF_IMG_20150817_121113_cell_130.png',\n",
       " 'C94P55ThinF_IMG_20150821_165519_cell_128.png',\n",
       " 'C90P51ThinF_IMG_20150821_115056_cell_209.png',\n",
       " 'C86P47ThinF_IMG_20150820_123717_cell_63.png',\n",
       " 'C84P45ThinF_IMG_20150818_101056_cell_37.png',\n",
       " 'C79P40ThinF_IMG_20150817_103303_cell_77.png',\n",
       " 'C73P34_ThinF_IMG_20150815_112246_cell_49.png',\n",
       " 'C89P50ThinF_IMG_20150820_162153_cell_110.png',\n",
       " 'C74P35_ThinF_IMG_20150815_120957_cell_64.png',\n",
       " 'C73P34_ThinF_IMG_20150815_112246_cell_76.png',\n",
       " 'C87P48ThinF_IMG_20150820_132327_cell_133.png',\n",
       " 'C87P48ThinF_IMG_20150820_132642_cell_85.png',\n",
       " 'C79P40ThinF_IMG_20150817_103139_cell_73.png',\n",
       " 'C77P38ThinF_IMG_20150602_111510_cell_109.png',\n",
       " 'C74P35_ThinF_IMG_20150815_121324_cell_67.png',\n",
       " 'C75P36_ThinF_IMG_20150815_162935_cell_9.png',\n",
       " 'C87P48ThinF_IMG_20150820_132642_cell_94.png',\n",
       " 'C7NthinF_IMG_20150611_105043_cell_111.png',\n",
       " 'C94P55ThinF_IMG_20150821_170403_cell_104.png',\n",
       " 'C88P49ThinF_IMG_20150820_150724_cell_97.png',\n",
       " 'C91P52ThinF_IMG_20150821_123116_cell_74.png',\n",
       " 'C7NthinF_IMG_20150611_104753_cell_171.png',\n",
       " 'C89P50ThinF_IMG_20150820_163347_cell_158.png',\n",
       " 'C80P41ThinF_IMG_20150817_110834_cell_105.png',\n",
       " 'C72P33_ThinF_IMG_20150815_105823_cell_223.png',\n",
       " 'C77P38ThinF_IMG_20150602_112011_cell_81.png',\n",
       " 'C93P54ThinF_IMG_20150821_164024_cell_95.png',\n",
       " 'C84P45ThinF_IMG_20150818_101550_cell_82.png',\n",
       " 'C71P32_ThinF_IMG_20150813_162554_cell_65.png',\n",
       " 'C70P31_ThinF_IMG_20150813_131330_cell_22.png',\n",
       " 'C81P42ThinF_IMG_20150817_120351_cell_177.png',\n",
       " 'C85P46ThinF_IMG_20150820_105154_cell_65.png',\n",
       " 'C89P50ThinF_IMG_20150820_162300_cell_188.png',\n",
       " 'C89P50ThinF_IMG_20150820_163728_cell_150.png',\n",
       " 'C93P54ThinF_IMG_20150821_163815_cell_16.png',\n",
       " 'C93P54ThinF_IMG_20150821_163815_cell_136.png',\n",
       " 'C83P44ThinF_IMG_20150817_133355_cell_175.png',\n",
       " 'C83P44ThinF_IMG_20150817_134331_cell_63.png',\n",
       " 'C76P37ThinF_IMG_20150815_172902_cell_159.png',\n",
       " 'C92P53ThinF_IMG_20150821_151646_cell_3.png',\n",
       " 'C72P33_ThinF_IMG_20150815_104923_cell_216.png',\n",
       " 'C95P56ThinF_IMG_20150821_171530_cell_76.png',\n",
       " 'C76P37ThinF_IMG_20150815_172808_cell_15.png',\n",
       " 'C86P47ThinF_IMG_20150820_124259_cell_94.png',\n",
       " 'C70P31_ThinF_IMG_20150819_141403_cell_50.png',\n",
       " 'C72P33_ThinF_IMG_20150815_104923_cell_166.png',\n",
       " 'C87P48ThinF_IMG_20150820_141913_cell_147.png',\n",
       " 'C77P38ThinF_IMG_20150602_111510_cell_102.png',\n",
       " 'C92P53ThinF_IMG_20150821_150457_cell_142.png',\n",
       " 'C76P37ThinF_IMG_20150815_171214_cell_103.png',\n",
       " 'C77P38ThinF_IMG_20150602_111510_cell_1.png',\n",
       " 'C76P37ThinF_IMG_20150815_171214_cell_144.png',\n",
       " 'C75P36_ThinF_IMG_20150815_163742_cell_42.png',\n",
       " 'C94P55ThinF_IMG_20150821_170403_cell_193.png',\n",
       " 'C73P34_ThinF_IMG_20150815_111653_cell_84.png',\n",
       " 'C88P49ThinF_IMG_20150820_153042_cell_65.png',\n",
       " 'C78P39ThinF_IMG_20150606_104426_cell_24.png',\n",
       " 'C85P46ThinF_IMG_20150820_105301_cell_34.png',\n",
       " 'C73P34_ThinF_IMG_20150815_111302_cell_100.png',\n",
       " 'C81P42ThinF_IMG_20150817_120856_cell_10.png',\n",
       " 'C78P39ThinF_IMG_20150606_103459_cell_108.png',\n",
       " 'C88P49ThinF_IMG_20150820_153042_cell_15.png',\n",
       " 'C84P45ThinF_IMG_20150818_102654_cell_21.png',\n",
       " 'C79P40ThinF_IMG_20150817_103139_cell_49.png',\n",
       " 'C90P51ThinF_IMG_20150821_115056_cell_199.png',\n",
       " 'C82P43ThinF_IMG_20150817_124010_cell_114.png',\n",
       " 'C88P49ThinF_IMG_20150820_151451_cell_170.png',\n",
       " 'C89P50ThinF_IMG_20150820_162813_cell_93.png',\n",
       " 'C89P50ThinF_IMG_20150820_162504_cell_45.png',\n",
       " 'C80P41ThinF_IMG_20150817_110834_cell_108.png',\n",
       " 'C74P35_ThinF_IMG_20150815_120957_cell_36.png',\n",
       " 'C78P39ThinF_IMG_20150606_103630_cell_26.png',\n",
       " 'C79P40ThinF_IMG_20150817_104745_cell_14.png',\n",
       " 'C74P35_ThinF_IMG_20150815_114401_cell_35.png',\n",
       " 'C84P45ThinF_IMG_20150818_102325_cell_49.png',\n",
       " 'C81P42ThinF_IMG_20150817_120712_cell_74.png',\n",
       " 'C81P42ThinF_IMG_20150817_121113_cell_107.png',\n",
       " 'C86P47ThinF_IMG_20150820_125057_cell_149.png',\n",
       " 'C77P38ThinF_IMG_20150601_155642_cell_66.png',\n",
       " 'C92P53ThinF_IMG_20150821_150457_cell_126.png',\n",
       " 'C80P41ThinF_IMG_20150817_111121_cell_137.png',\n",
       " 'C72P33_ThinF_IMG_20150815_105823_cell_87.png',\n",
       " 'C91P52ThinF_IMG_20150821_123116_cell_12.png',\n",
       " 'C91P52ThinF_IMG_20150821_125154_cell_101.png',\n",
       " 'C72P33_ThinF_IMG_20150815_104045_cell_109.png',\n",
       " 'C89P50ThinF_IMG_20150820_162300_cell_82.png',\n",
       " 'C74P35_ThinF_IMG_20150815_114401_cell_85.png',\n",
       " 'C87P48ThinF_IMG_20150820_132327_cell_31.png',\n",
       " 'C71P32_ThinF_IMG_20150813_161634_cell_225.png',\n",
       " 'C72P33_ThinF_IMG_20150815_104307_cell_185.png',\n",
       " 'C74P35_ThinF_IMG_20150815_114401_cell_15.png',\n",
       " 'C71P32_ThinF_IMG_20150813_162016_cell_18.png',\n",
       " 'C73P34_ThinF_IMG_20150815_111653_cell_24.png',\n",
       " 'C90P51ThinF_IMG_20150821_120044_cell_51.png',\n",
       " 'C78P39ThinF_IMG_20150606_104936_cell_13.png',\n",
       " 'C92P53ThinF_IMG_20150821_151722_cell_75.png',\n",
       " 'C95P56ThinF_IMG_20150821_172351_cell_90.png',\n",
       " 'C7NthinF_IMG_20150611_104824_cell_127.png',\n",
       " 'C82P43ThinF_IMG_20150817_123824_cell_105.png',\n",
       " 'C87P48ThinF_IMG_20150820_144855_cell_39.png',\n",
       " 'C77P38ThinF_IMG_20150602_143650_cell_105.png',\n",
       " 'C94P55ThinF_IMG_20150821_165519_cell_25.png',\n",
       " 'C87P48ThinF_IMG_20150820_132514_cell_173.png',\n",
       " 'C89P50ThinF_IMG_20150820_162153_cell_153.png',\n",
       " 'C91P52ThinF_IMG_20150821_123116_cell_27.png',\n",
       " 'C92P53ThinF_IMG_20150821_151646_cell_41.png',\n",
       " 'C90P51ThinF_IMG_20150821_115056_cell_190.png',\n",
       " 'C85P46ThinF_IMG_20150820_105154_cell_129.png',\n",
       " 'C89P50ThinF_IMG_20150820_163347_cell_196.png',\n",
       " 'C91P52ThinF_IMG_20150821_123314_cell_42.png',\n",
       " 'C85P46ThinF_IMG_20150820_110040_cell_157.png',\n",
       " 'C92P53ThinF_IMG_20150821_150718_cell_97.png',\n",
       " 'C70P31_ThinF_IMG_20150819_141403_cell_82.png',\n",
       " 'C80P41ThinF_IMG_20150817_111246_cell_90.png',\n",
       " 'C77P38ThinF_IMG_20150602_112011_cell_36.png',\n",
       " 'C94P55ThinF_IMG_20150821_170021_cell_194.png',\n",
       " 'C71P32_ThinF_IMG_20150813_162146_cell_188.png',\n",
       " 'C75P36_ThinF_IMG_20150815_163742_cell_136.png',\n",
       " 'C72P33_ThinF_IMG_20150815_104045_cell_118.png',\n",
       " 'C77P38ThinF_IMG_20150601_155642_cell_97.png',\n",
       " 'C81P42ThinF_IMG_20150817_120856_cell_5.png',\n",
       " 'C94P55ThinF_IMG_20150821_170403_cell_168.png',\n",
       " 'C81P42ThinF_IMG_20150817_121113_cell_154.png',\n",
       " 'C90P51ThinF_IMG_20150821_115310_cell_10.png',\n",
       " 'C92P53ThinF_IMG_20150821_151722_cell_194.png',\n",
       " 'C94P55ThinF_IMG_20150821_165519_cell_248.png',\n",
       " 'C82P43ThinF_IMG_20150817_123824_cell_73.png',\n",
       " 'C95P56ThinF_IMG_20150821_171242_cell_62.png',\n",
       " 'C92P53ThinF_IMG_20150821_150457_cell_225.png',\n",
       " 'C71P32_ThinF_IMG_20150813_163120_cell_70.png',\n",
       " 'C70P31_ThinF_IMG_20150819_141327_cell_20.png',\n",
       " 'C89P50ThinF_IMG_20150820_162813_cell_128.png',\n",
       " 'C85P46ThinF_IMG_20150820_105301_cell_124.png',\n",
       " 'C85P46ThinF_IMG_20150820_110143_cell_20.png',\n",
       " 'C72P33_ThinF_IMG_20150815_104307_cell_60.png',\n",
       " 'C72P33_ThinF_IMG_20150815_104307_cell_66.png',\n",
       " 'C93P54ThinF_IMG_20150821_163815_cell_132.png',\n",
       " 'C77P38ThinF_IMG_20150601_155125_cell_1.png',\n",
       " 'C77P38ThinF_IMG_20150601_152941_cell_98.png',\n",
       " 'C75P36_ThinF_IMG_20150815_163015_cell_40.png',\n",
       " 'C7NthinF_IMG_20150611_104404_cell_199.png',\n",
       " 'C79P40ThinF_IMG_20150817_104919_cell_50.png',\n",
       " 'C92P53ThinF_IMG_20150821_150718_cell_176.png',\n",
       " 'C95P56ThinF_IMG_20150821_171242_cell_35.png',\n",
       " 'C94P55ThinF_IMG_20150821_170249_cell_130.png',\n",
       " 'C93P54ThinF_IMG_20150821_162641_cell_112.png',\n",
       " 'C80P41ThinF_IMG_20150817_111121_cell_54.png',\n",
       " 'C77P38ThinF_IMG_20150602_112011_cell_100.png',\n",
       " 'C80P41ThinF_IMG_20150817_111246_cell_36.png',\n",
       " 'C94P55ThinF_IMG_20150821_170021_cell_56.png',\n",
       " 'C71P32_ThinF_IMG_20150813_162146_cell_36.png',\n",
       " 'C76P37ThinF_IMG_20150815_171454_cell_232.png',\n",
       " 'C95P56ThinF_IMG_20150821_171530_cell_34.png',\n",
       " 'C7NthinF_IMG_20150611_105043_cell_59.png',\n",
       " 'C78P39ThinF_IMG_20150606_103413_cell_68.png',\n",
       " 'C75P36_ThinF_IMG_20150815_163059_cell_84.png',\n",
       " 'C79P40ThinF_IMG_20150817_102823_cell_7.png',\n",
       " 'C86P47ThinF_IMG_20150820_125057_cell_142.png',\n",
       " 'C73P34_ThinF_IMG_20150815_111422_cell_12.png',\n",
       " 'C81P42ThinF_IMG_20150817_121113_cell_55.png',\n",
       " 'C74P35_ThinF_IMG_20150815_120957_cell_32.png',\n",
       " 'C79P40ThinF_IMG_20150817_104316_cell_53.png',\n",
       " 'C85P46ThinF_IMG_20150820_105154_cell_62.png',\n",
       " 'C87P48ThinF_IMG_20150820_132327_cell_86.png',\n",
       " 'C76P37ThinF_IMG_20150815_171214_cell_13.png',\n",
       " 'C83P44ThinF_IMG_20150817_134820_cell_131.png',\n",
       " 'C96P57ThinF_IMG_20150824_105213_cell_119.png',\n",
       " 'C71P32_ThinF_IMG_20150813_162554_cell_13.png',\n",
       " 'C79P40ThinF_IMG_20150817_102702_cell_127.png',\n",
       " 'C72P33_ThinF_IMG_20150815_104045_cell_60.png',\n",
       " 'C92P53ThinF_IMG_20150821_150718_cell_155.png',\n",
       " 'C91P52ThinF_IMG_20150821_125154_cell_111.png',\n",
       " 'C76P37ThinF_IMG_20150815_171214_cell_129.png',\n",
       " 'C71P32_ThinF_IMG_20150813_163120_cell_78.png',\n",
       " 'C93P54ThinF_IMG_20150821_164024_cell_138.png',\n",
       " 'C77P38ThinF_IMG_20150601_155125_cell_16.png',\n",
       " 'C78P39ThinF_IMG_20150606_104426_cell_16.png',\n",
       " 'C84P45ThinF_IMG_20150818_101226_cell_41.png',\n",
       " 'C86P47ThinF_IMG_20150820_124025_cell_198.png',\n",
       " 'C82P43ThinF_IMG_20150817_123652_cell_102.png',\n",
       " 'C78P39ThinF_IMG_20150606_103459_cell_11.png',\n",
       " 'C82P43ThinF_IMG_20150817_123500_cell_149.png',\n",
       " 'C86P47ThinF_IMG_20150820_124943_cell_108.png',\n",
       " 'C95P56ThinF_IMG_20150821_172222_cell_78.png',\n",
       " 'C79P40ThinF_IMG_20150817_104745_cell_142.png',\n",
       " 'C72P33_ThinF_IMG_20150815_104843_cell_138.png',\n",
       " 'C81P42ThinF_IMG_20150817_120524_cell_29.png',\n",
       " 'C87P48ThinF_IMG_20150820_144714_cell_5.png',\n",
       " 'C92P53ThinF_IMG_20150821_150457_cell_217.png',\n",
       " 'C76P37ThinF_IMG_20150815_171454_cell_92.png',\n",
       " 'C77P38ThinF_IMG_20150601_155642_cell_22.png',\n",
       " 'C84P45ThinF_IMG_20150818_104156_cell_39.png',\n",
       " 'C94P55ThinF_IMG_20150821_165118_cell_74.png',\n",
       " 'C92P53ThinF_IMG_20150821_150718_cell_115.png',\n",
       " 'C7NthinF_IMG_20150611_104404_cell_138.png',\n",
       " 'C72P33_ThinF_IMG_20150815_104307_cell_154.png',\n",
       " 'C95P56ThinF_IMG_20150821_172222_cell_33.png',\n",
       " 'C83P44ThinF_IMG_20150817_133609_cell_68.png',\n",
       " 'C81P42ThinF_IMG_20150817_120712_cell_20.png',\n",
       " 'C90P51ThinF_IMG_20150821_115846_cell_1.png',\n",
       " 'C78P39ThinF_IMG_20150606_104106_cell_45.png',\n",
       " 'C89P50ThinF_IMG_20150820_163347_cell_133.png',\n",
       " 'C75P36_ThinF_IMG_20150815_163225_cell_126.png',\n",
       " 'C89P50ThinF_IMG_20150820_162813_cell_118.png',\n",
       " 'C73P34_ThinF_IMG_20150815_111114_cell_60.png',\n",
       " 'C93P54ThinF_IMG_20150821_164024_cell_92.png',\n",
       " 'C89P50ThinF_IMG_20150820_162300_cell_154.png',\n",
       " 'C78P39ThinF_IMG_20150606_104426_cell_18.png',\n",
       " 'C90P51ThinF_IMG_20150821_115310_cell_77.png',\n",
       " 'C72P33_ThinF_IMG_20150815_105033_cell_30.png',\n",
       " 'C90P51ThinF_IMG_20150821_115846_cell_196.png',\n",
       " 'C77P38ThinF_IMG_20150601_155125_cell_18.png',\n",
       " 'C74P35_ThinF_IMG_20150815_114555_cell_25.png',\n",
       " 'C90P51ThinF_IMG_20150821_115056_cell_221.png',\n",
       " 'C90P51ThinF_IMG_20150821_120044_cell_1.png',\n",
       " 'C85P46ThinF_IMG_20150820_110143_cell_102.png',\n",
       " 'C78P39ThinF_IMG_20150606_103459_cell_95.png',\n",
       " 'C77P38ThinF_IMG_20150602_142303_cell_63.png',\n",
       " 'C86P47ThinF_IMG_20150820_124259_cell_189.png',\n",
       " 'C71P32_ThinF_IMG_20150813_162016_cell_72.png',\n",
       " 'C75P36_ThinF_IMG_20150815_163225_cell_106.png',\n",
       " 'C87P48ThinF_IMG_20150820_132642_cell_92.png',\n",
       " 'C86P47ThinF_IMG_20150820_124259_cell_119.png',\n",
       " 'C7NthinF_IMG_20150611_104824_cell_197.png',\n",
       " 'C90P51ThinF_IMG_20150821_120044_cell_223.png',\n",
       " 'C94P55ThinF_IMG_20150821_170021_cell_132.png',\n",
       " 'C75P36_ThinF_IMG_20150815_163059_cell_49.png',\n",
       " 'C76P37ThinF_IMG_20150815_171214_cell_82.png',\n",
       " 'C86P47ThinF_IMG_20150820_124259_cell_172.png',\n",
       " 'C90P51ThinF_IMG_20150821_120044_cell_204.png',\n",
       " 'C84P45ThinF_IMG_20150818_102507_cell_57.png',\n",
       " 'C87P48ThinF_IMG_20150820_144855_cell_143.png',\n",
       " 'C87P48ThinF_IMG_20150820_132327_cell_7.png',\n",
       " 'C92P53ThinF_IMG_20150821_151722_cell_116.png',\n",
       " 'C88P49ThinF_IMG_20150820_152521_cell_216.png',\n",
       " 'C81P42ThinF_IMG_20150817_120351_cell_122.png',\n",
       " 'C75P36_ThinF_IMG_20150815_163059_cell_131.png',\n",
       " 'C74P35_ThinF_IMG_20150815_121324_cell_114.png',\n",
       " 'C91P52ThinF_IMG_20150821_123116_cell_96.png',\n",
       " 'C78P39ThinF_IMG_20150606_104426_cell_104.png',\n",
       " 'C78P39ThinF_IMG_20150606_104426_cell_54.png',\n",
       " 'C70P31_ThinF_IMG_20150813_130849_cell_1.png',\n",
       " 'C7NthinF_IMG_20150611_104510_cell_119.png',\n",
       " 'C81P42ThinF_IMG_20150817_120524_cell_146.png',\n",
       " 'C81P42ThinF_IMG_20150817_121113_cell_58.png',\n",
       " 'C75P36_ThinF_IMG_20150815_163015_cell_68.png',\n",
       " 'C92P53ThinF_IMG_20150821_151224_cell_17.png',\n",
       " 'C89P50ThinF_IMG_20150820_162153_cell_2.png',\n",
       " 'C74P35_ThinF_IMG_20150815_114555_cell_89.png',\n",
       " 'C76P37ThinF_IMG_20150815_173019_cell_195.png',\n",
       " 'C81P42ThinF_IMG_20150817_120351_cell_82.png',\n",
       " 'C81P42ThinF_IMG_20150817_120351_cell_1.png',\n",
       " 'C93P54ThinF_IMG_20150821_164024_cell_51.png',\n",
       " 'C75P36_ThinF_IMG_20150815_163147_cell_42.png',\n",
       " 'C78P39ThinF_IMG_20150606_104936_cell_147.png',\n",
       " 'C75P36_ThinF_IMG_20150815_163015_cell_149.png',\n",
       " 'C95P56ThinF_IMG_20150821_172607_cell_39.png',\n",
       " 'C91P52ThinF_IMG_20150821_123116_cell_159.png',\n",
       " 'C79P40ThinF_IMG_20150817_102702_cell_5.png',\n",
       " 'C70P31_ThinF_IMG_20150819_141327_cell_33.png',\n",
       " 'C87P48ThinF_IMG_20150820_141913_cell_47.png',\n",
       " 'C76P37ThinF_IMG_20150815_171214_cell_30.png',\n",
       " 'C80P41ThinF_IMG_20150817_110348_cell_88.png',\n",
       " 'C94P55ThinF_IMG_20150821_170403_cell_96.png',\n",
       " 'C7NthinF_IMG_20150611_104609_cell_80.png',\n",
       " 'C73P34_ThinF_IMG_20150815_112246_cell_12.png',\n",
       " 'C78P39ThinF_IMG_20150606_103459_cell_110.png',\n",
       " 'C93P54ThinF_IMG_20150821_162901_cell_2.png',\n",
       " 'C83P44ThinF_IMG_20150817_133454_cell_22.png',\n",
       " 'C74P35_ThinF_IMG_20150815_114401_cell_110.png',\n",
       " 'C85P46ThinF_IMG_20150820_110040_cell_40.png',\n",
       " 'C81P42ThinF_IMG_20150817_120524_cell_109.png',\n",
       " 'C74P35_ThinF_IMG_20150815_113951_cell_98.png',\n",
       " 'C71P32_ThinF_IMG_20150813_163120_cell_124.png',\n",
       " 'C87P48ThinF_IMG_20150820_144714_cell_22.png',\n",
       " 'C94P55ThinF_IMG_20150821_165519_cell_245.png',\n",
       " 'C79P40ThinF_IMG_20150817_103139_cell_103.png',\n",
       " 'C80P41ThinF_IMG_20150817_110957_cell_48.png',\n",
       " 'C94P55ThinF_IMG_20150821_170249_cell_187.png',\n",
       " 'C82P43ThinF_IMG_20150817_124010_cell_148.png',\n",
       " 'C75P36_ThinF_IMG_20150815_163147_cell_128.png',\n",
       " 'C73P34_ThinF_IMG_20150815_111302_cell_79.png',\n",
       " 'C74P35_ThinF_IMG_20150815_120712_cell_26.png',\n",
       " 'C72P33_ThinF_IMG_20150815_104045_cell_194.png',\n",
       " 'C79P40ThinF_IMG_20150817_104745_cell_77.png',\n",
       " 'C73P34_ThinF_IMG_20150815_111422_cell_22.png',\n",
       " 'C79P40ThinF_IMG_20150817_102823_cell_81.png',\n",
       " 'C94P55ThinF_IMG_20150821_170021_cell_23.png',\n",
       " 'C7NthinF_IMG_20150611_104609_cell_2.png',\n",
       " 'C79P40ThinF_IMG_20150817_102823_cell_107.png',\n",
       " 'C70P31_ThinF_IMG_20150813_130510_cell_55.png',\n",
       " 'C88P49ThinF_IMG_20150820_151626_cell_160.png',\n",
       " 'C77P38ThinF_IMG_20150602_143650_cell_111.png',\n",
       " 'C74P35_ThinF_IMG_20150815_114401_cell_80.png',\n",
       " 'C88P49ThinF_IMG_20150820_151626_cell_5.png',\n",
       " 'C86P47ThinF_IMG_20150820_124025_cell_116.png',\n",
       " 'C73P34_ThinF_IMG_20150815_112246_cell_99.png',\n",
       " 'C82P43ThinF_IMG_20150817_123652_cell_80.png',\n",
       " 'C88P49ThinF_IMG_20150820_150141_cell_93.png',\n",
       " 'C70P31_ThinF_IMG_20150813_131022_cell_54.png',\n",
       " 'C88P49ThinF_IMG_20150820_151626_cell_180.png',\n",
       " 'C92P53ThinF_IMG_20150821_151722_cell_183.png',\n",
       " 'C7NthinF_IMG_20150611_104404_cell_44.png',\n",
       " 'C91P52ThinF_IMG_20150821_123116_cell_102.png',\n",
       " 'C88P49ThinF_IMG_20150820_152521_cell_204.png',\n",
       " 'C93P54ThinF_IMG_20150821_163452_cell_56.png',\n",
       " 'C70P31_ThinF_IMG_20150819_141327_cell_63.png',\n",
       " 'C79P40ThinF_IMG_20150817_104316_cell_112.png',\n",
       " 'C90P51ThinF_IMG_20150821_120044_cell_69.png',\n",
       " 'C73P34_ThinF_IMG_20150815_111501_cell_119.png',\n",
       " 'C81P42ThinF_IMG_20150817_120856_cell_151.png',\n",
       " 'C86P47ThinF_IMG_20150820_124025_cell_128.png',\n",
       " 'C95P56ThinF_IMG_20150821_172351_cell_72.png',\n",
       " 'C73P34_ThinF_IMG_20150815_111501_cell_66.png',\n",
       " 'C88P49ThinF_IMG_20150820_150141_cell_167.png',\n",
       " 'C75P36_ThinF_IMG_20150815_162935_cell_143.png',\n",
       " 'C71P32_ThinF_IMG_20150813_162554_cell_99.png',\n",
       " 'C77P38ThinF_IMG_20150602_112011_cell_76.png',\n",
       " 'C91P52ThinF_IMG_20150821_123116_cell_78.png',\n",
       " 'C70P31_ThinF_IMG_20150819_141327_cell_65.png',\n",
       " 'C83P44ThinF_IMG_20150817_134820_cell_57.png',\n",
       " 'C90P51ThinF_IMG_20150821_115700_cell_87.png',\n",
       " 'C82P43ThinF_IMG_20150817_123500_cell_81.png',\n",
       " 'C92P53ThinF_IMG_20150821_151646_cell_155.png',\n",
       " 'C94P55ThinF_IMG_20150821_165519_cell_262.png',\n",
       " 'C74P35_ThinF_IMG_20150815_120712_cell_33.png',\n",
       " 'C77P38ThinF_IMG_20150601_152941_cell_76.png',\n",
       " 'C83P44ThinF_IMG_20150817_134331_cell_1.png',\n",
       " 'C85P46ThinF_IMG_20150820_105748_cell_79.png',\n",
       " 'C83P44ThinF_IMG_20150817_134820_cell_13.png',\n",
       " 'C76P37ThinF_IMG_20150815_165356_cell_60.png',\n",
       " 'C87P48ThinF_IMG_20150820_144714_cell_192.png',\n",
       " 'C7NthinF_IMG_20150611_105043_cell_96.png',\n",
       " 'C79P40ThinF_IMG_20150817_103139_cell_25.png',\n",
       " 'C88P49ThinF_IMG_20150820_151626_cell_181.png',\n",
       " 'C70P31_ThinF_IMG_20150813_131022_cell_75.png',\n",
       " 'C93P54ThinF_IMG_20150821_162901_cell_51.png',\n",
       " 'C78P39ThinF_IMG_20150606_103459_cell_121.png',\n",
       " 'C71P32_ThinF_IMG_20150813_162554_cell_21.png',\n",
       " 'C79P40ThinF_IMG_20150817_104919_cell_88.png',\n",
       " 'C72P33_ThinF_IMG_20150815_104307_cell_53.png',\n",
       " 'C76P37ThinF_IMG_20150815_171454_cell_2.png',\n",
       " 'C94P55ThinF_IMG_20150821_170249_cell_5.png',\n",
       " 'C92P53ThinF_IMG_20150821_151646_cell_39.png',\n",
       " 'C73P34_ThinF_IMG_20150815_111114_cell_97.png',\n",
       " 'C82P43ThinF_IMG_20150817_124418_cell_55.png',\n",
       " 'C75P36_ThinF_IMG_20150815_163147_cell_159.png',\n",
       " 'C70P31_ThinF_IMG_20150819_141730_cell_48.png',\n",
       " 'C83P44ThinF_IMG_20150817_133218_cell_129.png',\n",
       " 'C88P49ThinF_IMG_20150820_150141_cell_183.png',\n",
       " 'C76P37ThinF_IMG_20150815_172902_cell_22.png',\n",
       " 'C82P43ThinF_IMG_20150817_123500_cell_175.png',\n",
       " 'C86P47ThinF_IMG_20150820_124259_cell_123.png',\n",
       " 'C78P39ThinF_IMG_20150606_104936_cell_92.png',\n",
       " 'C7NthinF_IMG_20150611_104404_cell_130.png',\n",
       " 'C93P54ThinF_IMG_20150821_163640_cell_141.png',\n",
       " 'C74P35_ThinF_IMG_20150815_113951_cell_109.png',\n",
       " 'C86P47ThinF_IMG_20150820_123717_cell_231.png',\n",
       " 'C89P50ThinF_IMG_20150820_162153_cell_35.png',\n",
       " 'C87P48ThinF_IMG_20150820_132514_cell_110.png',\n",
       " 'C73P34_ThinF_IMG_20150815_112246_cell_90.png',\n",
       " 'C94P55ThinF_IMG_20150821_165118_cell_13.png',\n",
       " 'C83P44ThinF_IMG_20150817_133218_cell_1.png',\n",
       " 'C78P39ThinF_IMG_20150606_104936_cell_117.png',\n",
       " 'C78P39ThinF_IMG_20150606_103413_cell_139.png',\n",
       " 'C94P55ThinF_IMG_20150821_165118_cell_68.png',\n",
       " 'C74P35_ThinF_IMG_20150815_120712_cell_15.png',\n",
       " 'C70P31_ThinF_IMG_20150819_141403_cell_27.png',\n",
       " 'C71P32_ThinF_IMG_20150813_162146_cell_95.png',\n",
       " 'C88P49ThinF_IMG_20150820_151451_cell_160.png',\n",
       " 'C89P50ThinF_IMG_20150820_162504_cell_67.png',\n",
       " 'C70P31_ThinF_IMG_20150813_131022_cell_60.png',\n",
       " 'C90P51ThinF_IMG_20150821_115700_cell_181.png',\n",
       " 'C73P34_ThinF_IMG_20150815_111422_cell_51.png',\n",
       " 'C76P37ThinF_IMG_20150815_172902_cell_137.png',\n",
       " 'C84P45ThinF_IMG_20150818_102325_cell_63.png',\n",
       " 'C76P37ThinF_IMG_20150815_171454_cell_95.png',\n",
       " 'C70P31_ThinF_IMG_20150813_131022_cell_84.png',\n",
       " 'C79P40ThinF_IMG_20150817_104745_cell_37.png',\n",
       " 'C94P55ThinF_IMG_20150821_165118_cell_231.png',\n",
       " 'C75P36_ThinF_IMG_20150815_163015_cell_132.png',\n",
       " 'C75P36_ThinF_IMG_20150815_163225_cell_21.png',\n",
       " 'C85P46ThinF_IMG_20150820_105154_cell_1.png',\n",
       " 'C87P48ThinF_IMG_20150820_144855_cell_96.png',\n",
       " 'C74P35_ThinF_IMG_20150815_120712_cell_37.png',\n",
       " 'C90P51ThinF_IMG_20150821_115310_cell_101.png',\n",
       " 'C85P46ThinF_IMG_20150820_110143_cell_125.png',\n",
       " 'C95P56ThinF_IMG_20150821_172351_cell_6.png',\n",
       " 'C95P56ThinF_IMG_20150821_172607_cell_68.png',\n",
       " 'C78P39ThinF_IMG_20150606_103413_cell_12.png',\n",
       " 'C84P45ThinF_IMG_20150818_101146_cell_8.png',\n",
       " 'C96P57ThinF_IMG_20150824_105213_cell_76.png',\n",
       " 'C74P35_ThinF_IMG_20150815_114153_cell_107.png',\n",
       " 'C73P34_ThinF_IMG_20150815_112246_cell_74.png',\n",
       " 'C79P40ThinF_IMG_20150817_103303_cell_51.png',\n",
       " 'C81P42ThinF_IMG_20150817_120856_cell_7.png',\n",
       " 'C90P51ThinF_IMG_20150821_115846_cell_114.png',\n",
       " 'C90P51ThinF_IMG_20150821_115846_cell_206.png',\n",
       " 'C78P39ThinF_IMG_20150606_104936_cell_150.png',\n",
       " 'C80P41ThinF_IMG_20150817_110834_cell_48.png',\n",
       " 'C80P41ThinF_IMG_20150817_110957_cell_9.png',\n",
       " 'C95P56ThinF_IMG_20150821_171603_cell_35.png',\n",
       " 'C87P48ThinF_IMG_20150820_132514_cell_10.png',\n",
       " 'C92P53ThinF_IMG_20150821_151646_cell_45.png',\n",
       " 'C82P43ThinF_IMG_20150817_123652_cell_2.png',\n",
       " 'C83P44ThinF_IMG_20150817_133218_cell_43.png',\n",
       " 'C7NthinF_IMG_20150611_104824_cell_108.png',\n",
       " 'C94P55ThinF_IMG_20150821_165118_cell_26.png',\n",
       " 'C7NthinF_IMG_20150611_104404_cell_194.png',\n",
       " 'C70P31_ThinF_IMG_20150813_131609_cell_44.png',\n",
       " 'C76P37ThinF_IMG_20150815_172808_cell_118.png',\n",
       " 'C92P53ThinF_IMG_20150821_151722_cell_37.png',\n",
       " 'C71P32_ThinF_IMG_20150813_162016_cell_108.png',\n",
       " 'C83P44ThinF_IMG_20150817_133355_cell_82.png',\n",
       " 'C91P52ThinF_IMG_20150821_125154_cell_61.png',\n",
       " 'C72P33_ThinF_IMG_20150815_105033_cell_39.png',\n",
       " 'C88P49ThinF_IMG_20150820_150724_cell_129.png',\n",
       " 'C84P45ThinF_IMG_20150818_101146_cell_4.png',\n",
       " 'C87P48ThinF_IMG_20150820_144714_cell_146.png',\n",
       " 'C88P49ThinF_IMG_20150820_150141_cell_211.png',\n",
       " 'C7NthinF_IMG_20150611_105444_cell_77.png',\n",
       " 'C73P34_ThinF_IMG_20150815_111422_cell_63.png',\n",
       " 'C78P39ThinF_IMG_20150606_104106_cell_57.png',\n",
       " 'C71P32_ThinF_IMG_20150813_163655_cell_60.png',\n",
       " 'C7NthinF_IMG_20150611_104753_cell_47.png',\n",
       " 'C78P39ThinF_IMG_20150606_103630_cell_55.png',\n",
       " 'C79P40ThinF_IMG_20150817_103901_cell_94.png',\n",
       " 'C75P36_ThinF_IMG_20150815_163059_cell_66.png',\n",
       " 'C87P48ThinF_IMG_20150820_144855_cell_181.png',\n",
       " 'C81P42ThinF_IMG_20150817_120351_cell_74.png',\n",
       " 'C90P51ThinF_IMG_20150821_115700_cell_89.png',\n",
       " 'C85P46ThinF_IMG_20150820_110143_cell_110.png',\n",
       " 'C81P42ThinF_IMG_20150817_120712_cell_61.png',\n",
       " 'C76P37ThinF_IMG_20150815_171454_cell_210.png',\n",
       " 'C79P40ThinF_IMG_20150817_103901_cell_54.png',\n",
       " 'C86P47ThinF_IMG_20150820_123717_cell_190.png',\n",
       " 'C82P43ThinF_IMG_20150817_124010_cell_102.png',\n",
       " 'C77P38ThinF_IMG_20150602_143650_cell_37.png',\n",
       " 'C77P38ThinF_IMG_20150601_155642_cell_35.png',\n",
       " 'C7NthinF_IMG_20150611_104609_cell_38.png',\n",
       " 'C72P33_ThinF_IMG_20150815_105823_cell_35.png',\n",
       " 'C85P46ThinF_IMG_20150820_105301_cell_148.png',\n",
       " 'C82P43ThinF_IMG_20150817_124418_cell_138.png',\n",
       " 'C79P40ThinF_IMG_20150817_103901_cell_107.png',\n",
       " 'C84P45ThinF_IMG_20150818_101257_cell_43.png',\n",
       " 'C87P48ThinF_IMG_20150820_132327_cell_89.png',\n",
       " 'C89P50ThinF_IMG_20150820_162153_cell_168.png',\n",
       " 'C75P36_ThinF_IMG_20150815_163707_cell_155.png',\n",
       " 'C80P41ThinF_IMG_20150817_111246_cell_27.png',\n",
       " 'C93P54ThinF_IMG_20150821_162901_cell_57.png',\n",
       " 'C89P50ThinF_IMG_20150820_162504_cell_164.png',\n",
       " 'C81P42ThinF_IMG_20150817_120351_cell_76.png',\n",
       " 'C81P42ThinF_IMG_20150817_115942_cell_155.png',\n",
       " 'C93P54ThinF_IMG_20150821_163640_cell_95.png',\n",
       " 'C77P38ThinF_IMG_20150601_155642_cell_76.png',\n",
       " 'C82P43ThinF_IMG_20150817_123824_cell_103.png',\n",
       " 'C77P38ThinF_IMG_20150601_155642_cell_65.png',\n",
       " 'C91P52ThinF_IMG_20150821_123116_cell_116.png',\n",
       " 'C87P48ThinF_IMG_20150820_132514_cell_179.png',\n",
       " 'C77P38ThinF_IMG_20150602_112011_cell_68.png',\n",
       " 'C94P55ThinF_IMG_20150821_170021_cell_20.png',\n",
       " 'C85P46ThinF_IMG_20150820_105301_cell_163.png',\n",
       " 'C90P51ThinF_IMG_20150821_115846_cell_195.png',\n",
       " 'C94P55ThinF_IMG_20150821_170021_cell_112.png',\n",
       " 'C70P31_ThinF_IMG_20150813_131609_cell_51.png',\n",
       " 'C73P34_ThinF_IMG_20150815_112246_cell_92.png',\n",
       " 'C94P55ThinF_IMG_20150821_170403_cell_188.png',\n",
       " 'C86P47ThinF_IMG_20150820_123717_cell_203.png',\n",
       " 'C87P48ThinF_IMG_20150820_132642_cell_99.png',\n",
       " 'C89P50ThinF_IMG_20150820_163728_cell_110.png',\n",
       " 'C94P55ThinF_IMG_20150821_165519_cell_165.png',\n",
       " 'C76P37ThinF_IMG_20150815_172808_cell_73.png',\n",
       " 'C7NthinF_IMG_20150611_104404_cell_112.png',\n",
       " 'C70P31_ThinF_IMG_20150813_131022_cell_48.png',\n",
       " 'C87P48ThinF_IMG_20150820_144714_cell_90.png',\n",
       " 'C72P33_ThinF_IMG_20150815_105033_cell_136.png',\n",
       " 'C81P42ThinF_IMG_20150817_115942_cell_44.png',\n",
       " 'C80P41ThinF_IMG_20150817_110957_cell_45.png',\n",
       " 'C74P35_ThinF_IMG_20150815_120712_cell_113.png',\n",
       " 'C85P46ThinF_IMG_20150820_105301_cell_219.png',\n",
       " 'C73P34_ThinF_IMG_20150815_111422_cell_13.png',\n",
       " 'C71P32_ThinF_IMG_20150813_163655_cell_20.png',\n",
       " 'C82P43ThinF_IMG_20150817_124418_cell_118.png',\n",
       " 'C73P34_ThinF_IMG_20150815_111501_cell_19.png',\n",
       " 'C75P36_ThinF_IMG_20150815_163015_cell_101.png',\n",
       " 'C75P36_ThinF_IMG_20150815_162935_cell_103.png',\n",
       " 'C87P48ThinF_IMG_20150820_141913_cell_165.png',\n",
       " 'C86P47ThinF_IMG_20150820_123717_cell_103.png',\n",
       " 'C92P53ThinF_IMG_20150821_150457_cell_97.png',\n",
       " 'C95P56ThinF_IMG_20150821_171631_cell_72.png',\n",
       " 'C91P52ThinF_IMG_20150821_124739_cell_133.png',\n",
       " 'C76P37ThinF_IMG_20150815_171214_cell_39.png',\n",
       " 'C91P52ThinF_IMG_20150821_125154_cell_59.png',\n",
       " 'C85P46ThinF_IMG_20150820_105154_cell_104.png',\n",
       " 'C77P38ThinF_IMG_20150602_111510_cell_58.png',\n",
       " 'C92P53ThinF_IMG_20150821_151722_cell_173.png',\n",
       " 'C82P43ThinF_IMG_20150817_123500_cell_53.png',\n",
       " 'C87P48ThinF_IMG_20150820_144714_cell_24.png',\n",
       " 'C84P45ThinF_IMG_20150818_101226_cell_32.png',\n",
       " 'C74P35_ThinF_IMG_20150815_114555_cell_71.png',\n",
       " 'C91P52ThinF_IMG_20150821_124504_cell_147.png',\n",
       " 'C80P41ThinF_IMG_20150817_111121_cell_99.png',\n",
       " 'C75P36_ThinF_IMG_20150815_163707_cell_33.png',\n",
       " 'C79P40ThinF_IMG_20150817_104919_cell_38.png',\n",
       " 'C86P47ThinF_IMG_20150820_124025_cell_83.png',\n",
       " 'C71P32_ThinF_IMG_20150813_162016_cell_166.png',\n",
       " 'C84P45ThinF_IMG_20150818_101550_cell_60.png',\n",
       " 'C72P33_ThinF_IMG_20150815_105033_cell_115.png',\n",
       " 'C89P50ThinF_IMG_20150820_162504_cell_127.png',\n",
       " 'C92P53ThinF_IMG_20150821_150457_cell_10.png',\n",
       " 'C92P53ThinF_IMG_20150821_151224_cell_195.png',\n",
       " 'C87P48ThinF_IMG_20150820_141913_cell_121.png',\n",
       " 'C90P51ThinF_IMG_20150821_115700_cell_15.png',\n",
       " 'C90P51ThinF_IMG_20150821_115056_cell_90.png',\n",
       " 'C73P34_ThinF_IMG_20150815_111114_cell_41.png',\n",
       " 'C93P54ThinF_IMG_20150821_162641_cell_63.png',\n",
       " 'C82P43ThinF_IMG_20150817_123824_cell_37.png',\n",
       " 'C78P39ThinF_IMG_20150606_104106_cell_105.png',\n",
       " 'C73P34_ThinF_IMG_20150815_111302_cell_6.png',\n",
       " 'C7NthinF_IMG_20150611_104609_cell_76.png',\n",
       " 'C72P33_ThinF_IMG_20150815_104923_cell_199.png',\n",
       " 'C71P32_ThinF_IMG_20150813_162554_cell_55.png',\n",
       " 'C95P56ThinF_IMG_20150821_172222_cell_26.png',\n",
       " 'C73P34_ThinF_IMG_20150815_111302_cell_84.png',\n",
       " 'C7NthinF_IMG_20150611_105444_cell_163.png',\n",
       " 'C77P38ThinF_IMG_20150601_155125_cell_75.png',\n",
       " 'C70P31_ThinF_IMG_20150819_141436_cell_51.png',\n",
       " 'C72P33_ThinF_IMG_20150815_105823_cell_23.png',\n",
       " 'C80P41ThinF_IMG_20150817_110348_cell_66.png',\n",
       " 'C90P51ThinF_IMG_20150821_120044_cell_220.png',\n",
       " 'C81P42ThinF_IMG_20150817_115942_cell_120.png',\n",
       " 'C74P35_ThinF_IMG_20150815_114555_cell_27.png',\n",
       " 'C74P35_ThinF_IMG_20150815_114819_cell_78.png',\n",
       " 'C79P40ThinF_IMG_20150817_103901_cell_35.png',\n",
       " 'C78P39ThinF_IMG_20150606_103413_cell_141.png',\n",
       " 'C85P46ThinF_IMG_20150820_105154_cell_200.png',\n",
       " 'C7NthinF_IMG_20150611_104609_cell_59.png',\n",
       " 'C95P56ThinF_IMG_20150821_172222_cell_64.png',\n",
       " 'C80P41ThinF_IMG_20150817_110348_cell_30.png',\n",
       " 'C81P42ThinF_IMG_20150817_115942_cell_209.png',\n",
       " 'C89P50ThinF_IMG_20150820_163728_cell_47.png',\n",
       " 'C84P45ThinF_IMG_20150818_104156_cell_57.png',\n",
       " 'C72P33_ThinF_IMG_20150815_104923_cell_110.png',\n",
       " 'C76P37ThinF_IMG_20150815_165356_cell_159.png',\n",
       " 'C7NthinF_IMG_20150611_104824_cell_57.png',\n",
       " 'C85P46ThinF_IMG_20150820_110040_cell_128.png',\n",
       " 'C84P45ThinF_IMG_20150818_101056_cell_24.png',\n",
       " 'C86P47ThinF_IMG_20150820_124943_cell_78.png',\n",
       " 'C77P38ThinF_IMG_20150602_143650_cell_126.png',\n",
       " 'C71P32_ThinF_IMG_20150813_162016_cell_82.png',\n",
       " 'C92P53ThinF_IMG_20150821_151646_cell_97.png',\n",
       " 'C74P35_ThinF_IMG_20150815_113951_cell_44.png',\n",
       " 'C73P34_ThinF_IMG_20150815_111302_cell_127.png',\n",
       " 'C84P45ThinF_IMG_20150818_102325_cell_20.png',\n",
       " 'C76P37ThinF_IMG_20150815_172902_cell_169.png',\n",
       " 'C91P52ThinF_IMG_20150821_123314_cell_68.png',\n",
       " 'C73P34_ThinF_IMG_20150815_111501_cell_72.png',\n",
       " 'C92P53ThinF_IMG_20150821_150457_cell_106.png',\n",
       " 'C88P49ThinF_IMG_20150820_151451_cell_158.png',\n",
       " 'C74P35_ThinF_IMG_20150815_114153_cell_72.png',\n",
       " 'C78P39ThinF_IMG_20150606_103630_cell_56.png',\n",
       " 'C84P45ThinF_IMG_20150818_101412_cell_95.png',\n",
       " 'C91P52ThinF_IMG_20150821_125154_cell_108.png',\n",
       " 'C72P33_ThinF_IMG_20150815_104045_cell_175.png',\n",
       " 'C83P44ThinF_IMG_20150817_134820_cell_182.png',\n",
       " 'C84P45ThinF_IMG_20150818_101146_cell_45.png',\n",
       " 'C82P43ThinF_IMG_20150817_124010_cell_28.png',\n",
       " 'C89P50ThinF_IMG_20150820_162300_cell_108.png',\n",
       " 'C98P59ThinF_IMG_20150917_154235_cell_86.png',\n",
       " 'C98P59ThinF_IMG_20150917_153801_cell_1.png',\n",
       " 'C99P60ThinF_IMG_20150918_141520_cell_38.png',\n",
       " 'C98P59ThinF_IMG_20150917_154452_cell_44.png',\n",
       " 'C98P59ThinF_IMG_20150917_154452_cell_33.png',\n",
       " 'C96P57ThinF_IMG_20150824_112132_cell_161.png',\n",
       " 'C99P60ThinF_IMG_20150918_141001_cell_24.png',\n",
       " 'C99P60ThinF_IMG_20150918_141314_cell_65.png',\n",
       " 'C97P58ThinF_IMG_20150917_145555_cell_88.png',\n",
       " 'C96P57ThinF_IMG_20150824_110812_cell_111.png',\n",
       " 'C98P59ThinF_IMG_20150917_154452_cell_144.png',\n",
       " 'C97P58ThinF_IMG_20150917_151512_cell_110.png',\n",
       " 'C97P58ThinF_IMG_20150917_151551_cell_134.png',\n",
       " 'C98P59ThinF_IMG_20150917_153600_cell_116.png',\n",
       " 'C96P57ThinF_IMG_20150824_105531_cell_71.png',\n",
       " 'C96P57ThinF_IMG_20150824_111748_cell_69.png',\n",
       " 'C97P58ThinF_IMG_20150917_151512_cell_117.png',\n",
       " 'C98P59ThinF_IMG_20150917_153030_cell_136.png',\n",
       " 'C97P58ThinF_IMG_20150917_151320_cell_51.png',\n",
       " 'C97P58ThinF_IMG_20150917_151320_cell_102.png',\n",
       " 'C99P60ThinF_IMG_20150918_142128_cell_11.png',\n",
       " 'C97P58ThinF_IMG_20150917_151551_cell_99.png',\n",
       " 'C97P58ThinF_IMG_20150917_152032_cell_93.png',\n",
       " 'C98P59ThinF_IMG_20150917_154452_cell_19.png',\n",
       " 'C97P58ThinF_IMG_20150917_145555_cell_40.png',\n",
       " 'C97P58ThinF_IMG_20150917_151551_cell_56.png',\n",
       " 'C99P60ThinF_IMG_20150918_141314_cell_39.png',\n",
       " 'C98P59ThinF_IMG_20150917_153311_cell_32.png',\n",
       " 'C97P58ThinF_IMG_20150917_151512_cell_16.png',\n",
       " 'C96P57ThinF_IMG_20150824_105213_cell_95.png',\n",
       " 'C97P58ThinF_IMG_20150917_151551_cell_2.png',\n",
       " 'C97P58ThinF_IMG_20150917_145555_cell_149.png',\n",
       " 'C99P60ThinF_IMG_20150918_141314_cell_16.png',\n",
       " 'C99P60ThinF_IMG_20150918_141351_cell_26.png',\n",
       " 'C99P60ThinF_IMG_20150918_141129_cell_15.png',\n",
       " 'C96P57ThinF_IMG_20150824_105445_cell_63.png',\n",
       " 'C96P57ThinF_IMG_20150824_111748_cell_165.png',\n",
       " 'C97P58ThinF_IMG_20150917_151512_cell_112.png',\n",
       " 'C99P60ThinF_IMG_20150918_140900_cell_6.png',\n",
       " 'C99P60ThinF_IMG_20150918_141001_cell_89.png',\n",
       " 'C98P59ThinF_IMG_20150917_153311_cell_27.png',\n",
       " 'C97P58ThinF_IMG_20150917_145555_cell_122.png',\n",
       " 'C98P59ThinF_IMG_20150917_154452_cell_108.png',\n",
       " 'C97P58ThinF_IMG_20150917_152032_cell_128.png',\n",
       " 'C98P59ThinF_IMG_20150917_153600_cell_184.png',\n",
       " 'C99P60ThinF_IMG_20150918_141001_cell_69.png',\n",
       " 'C97P58ThinF_IMG_20150917_151320_cell_142.png',\n",
       " 'C96P57ThinF_IMG_20150824_112132_cell_74.png',\n",
       " 'C97P58ThinF_IMG_20150917_151512_cell_134.png',\n",
       " 'C98P59ThinF_IMG_20150917_154235_cell_135.png',\n",
       " 'C97P58ThinF_IMG_20150917_151437_cell_63.png',\n",
       " 'C98P59ThinF_IMG_20150917_153801_cell_79.png',\n",
       " 'C96P57ThinF_IMG_20150824_110812_cell_39.png',\n",
       " 'C99P60ThinF_IMG_20150918_141351_cell_53.png',\n",
       " 'C99P60ThinF_IMG_20150918_141001_cell_46.png',\n",
       " 'C98P59ThinF_IMG_20150917_153311_cell_149.png',\n",
       " 'C97P58ThinF_IMG_20150917_151551_cell_47.png',\n",
       " 'C99P60ThinF_IMG_20150918_141520_cell_16.png',\n",
       " 'C99P60ThinF_IMG_20150918_140900_cell_59.png',\n",
       " 'C96P57ThinF_IMG_20150824_105445_cell_45.png',\n",
       " 'C97P58ThinF_IMG_20150917_151512_cell_26.png',\n",
       " 'C98P59ThinF_IMG_20150917_153801_cell_176.png',\n",
       " 'C96P57ThinF_IMG_20150824_105445_cell_140.png',\n",
       " 'C99P60ThinF_IMG_20150918_141314_cell_81.png',\n",
       " 'C96P57ThinF_IMG_20150824_105445_cell_29.png',\n",
       " 'C97P58ThinF_IMG_20150917_151437_cell_29.png',\n",
       " 'C98P59ThinF_IMG_20150917_153030_cell_28.png',\n",
       " 'C99P60ThinF_IMG_20150918_141001_cell_50.png',\n",
       " 'C96P57ThinF_IMG_20150824_105531_cell_55.png',\n",
       " 'C96P57ThinF_IMG_20150824_110812_cell_203.png',\n",
       " 'C98P59ThinF_IMG_20150917_153030_cell_74.png',\n",
       " 'C99P60ThinF_IMG_20150918_141001_cell_61.png',\n",
       " 'C99P60ThinF_IMG_20150918_141351_cell_56.png',\n",
       " 'C99P60ThinF_IMG_20150918_142128_cell_56.png',\n",
       " 'C98P59ThinF_IMG_20150917_153938_cell_117.png',\n",
       " 'C97P58ThinF_IMG_20150917_151320_cell_113.png',\n",
       " 'C99P60ThinF_IMG_20150918_141520_cell_1.png',\n",
       " 'C98P59ThinF_IMG_20150917_153311_cell_143.png',\n",
       " 'C96P57ThinF_IMG_20150824_112442_cell_88.png',\n",
       " 'C99P60ThinF_IMG_20150918_141351_cell_92.png',\n",
       " 'C99P60ThinF_IMG_20150918_141001_cell_4.png',\n",
       " 'C97P58ThinF_IMG_20150917_151437_cell_113.png',\n",
       " 'C96P57ThinF_IMG_20150824_112442_cell_160.png',\n",
       " 'C98P59ThinF_IMG_20150917_153938_cell_100.png',\n",
       " 'C98P59ThinF_IMG_20150917_154235_cell_157.png',\n",
       " 'C99P60ThinF_IMG_20150918_141351_cell_75.png',\n",
       " 'C98P59ThinF_IMG_20150917_154452_cell_102.png',\n",
       " 'C98P59ThinF_IMG_20150917_153938_cell_6.png',\n",
       " 'C96P57ThinF_IMG_20150824_112442_cell_9.png',\n",
       " 'C97P58ThinF_IMG_20150917_151551_cell_105.png',\n",
       " 'C98P59ThinF_IMG_20150917_153030_cell_95.png',\n",
       " 'C99P60ThinF_IMG_20150918_140900_cell_52.png',\n",
       " 'C97P58ThinF_IMG_20150917_152032_cell_44.png',\n",
       " 'C98P59ThinF_IMG_20150917_153938_cell_26.png',\n",
       " 'C99P60ThinF_IMG_20150918_141520_cell_42.png',\n",
       " 'C96P57ThinF_IMG_20150824_112132_cell_53.png',\n",
       " 'C99P60ThinF_IMG_20150918_141314_cell_11.png',\n",
       " 'C97P58ThinF_IMG_20150917_151551_cell_57.png',\n",
       " 'C99P60ThinF_IMG_20150918_141001_cell_26.png',\n",
       " 'C98P59ThinF_IMG_20150917_153600_cell_152.png',\n",
       " 'C99P60ThinF_IMG_20150918_141314_cell_57.png',\n",
       " 'C96P57ThinF_IMG_20150824_105445_cell_139.png',\n",
       " 'C98P59ThinF_IMG_20150917_153801_cell_178.png',\n",
       " 'C96P57ThinF_IMG_20150824_110812_cell_97.png',\n",
       " 'C96P57ThinF_IMG_20150824_110812_cell_177.png',\n",
       " 'C96P57ThinF_IMG_20150824_111748_cell_47.png',\n",
       " 'C98P59ThinF_IMG_20150917_153938_cell_170.png',\n",
       " 'C98P59ThinF_IMG_20150917_153600_cell_160.png',\n",
       " 'C97P58ThinF_IMG_20150917_150838_cell_82.png',\n",
       " 'C98P59ThinF_IMG_20150917_153311_cell_16.png',\n",
       " 'C99P60ThinF_IMG_20150918_142128_cell_45.png',\n",
       " 'C97P58ThinF_IMG_20150917_151437_cell_71.png',\n",
       " 'C99P60ThinF_IMG_20150918_141314_cell_31.png',\n",
       " 'C97P58ThinF_IMG_20150917_151320_cell_11.png',\n",
       " 'C99P60ThinF_IMG_20150918_142128_cell_47.png',\n",
       " 'C98P59ThinF_IMG_20150917_153801_cell_83.png',\n",
       " 'C98P59ThinF_IMG_20150917_153311_cell_49.png',\n",
       " 'C98P59ThinF_IMG_20150917_153600_cell_83.png',\n",
       " 'C96P57ThinF_IMG_20150824_111748_cell_133.png',\n",
       " 'C96P57ThinF_IMG_20150824_112442_cell_163.png',\n",
       " 'C99P60ThinF_IMG_20150918_140900_cell_24.png',\n",
       " 'C98P59ThinF_IMG_20150917_154235_cell_125.png',\n",
       " 'C96P57ThinF_IMG_20150824_105531_cell_34.png',\n",
       " 'C96P57ThinF_IMG_20150824_111748_cell_166.png',\n",
       " 'C97P58ThinF_IMG_20150917_151320_cell_54.png',\n",
       " 'C97P58ThinF_IMG_20150917_151551_cell_142.png',\n",
       " 'C99P60ThinF_IMG_20150918_142128_cell_53.png',\n",
       " 'C96P57ThinF_IMG_20150824_112132_cell_63.png',\n",
       " 'C99P60ThinF_IMG_20150918_140900_cell_91.png',\n",
       " 'C99P60ThinF_IMG_20150918_142128_cell_52.png',\n",
       " 'C99P60ThinF_IMG_20150918_141520_cell_73.png',\n",
       " 'C96P57ThinF_IMG_20150824_112442_cell_18.png',\n",
       " 'C98P59ThinF_IMG_20150917_153030_cell_62.png',\n",
       " 'C98P59ThinF_IMG_20150917_154235_cell_171.png',\n",
       " 'C96P57ThinF_IMG_20150824_112442_cell_180.png',\n",
       " 'C99P60ThinF_IMG_20150918_142128_cell_3.png',\n",
       " 'C97P58ThinF_IMG_20150917_152032_cell_101.png',\n",
       " 'C97P58ThinF_IMG_20150917_145555_cell_36.png',\n",
       " 'C97P58ThinF_IMG_20150917_151512_cell_133.png',\n",
       " 'C98P59ThinF_IMG_20150917_153030_cell_144.png',\n",
       " 'C99P60ThinF_IMG_20150918_140900_cell_69.png',\n",
       " 'C96P57ThinF_IMG_20150824_112132_cell_124.png',\n",
       " 'C97P58ThinF_IMG_20150917_152032_cell_143.png',\n",
       " 'C98P59ThinF_IMG_20150917_154452_cell_199.png',\n",
       " 'C98P59ThinF_IMG_20150917_153600_cell_1.png',\n",
       " 'C98P59ThinF_IMG_20150917_154235_cell_30.png',\n",
       " 'C99P60ThinF_IMG_20150918_141314_cell_46.png',\n",
       " 'C99P60ThinF_IMG_20150918_141314_cell_79.png',\n",
       " 'C97P58ThinF_IMG_20150917_150838_cell_118.png',\n",
       " 'C97P58ThinF_IMG_20150917_150838_cell_47.png',\n",
       " 'C96P57ThinF_IMG_20150824_111748_cell_61.png',\n",
       " 'C99P60ThinF_IMG_20150918_140900_cell_44.png',\n",
       " 'C97P58ThinF_IMG_20150917_150838_cell_57.png',\n",
       " 'C98P59ThinF_IMG_20150917_153311_cell_61.png',\n",
       " 'C98P59ThinF_IMG_20150917_154452_cell_70.png',\n",
       " 'C97P58ThinF_IMG_20150917_150838_cell_145.png',\n",
       " 'C99P60ThinF_IMG_20150918_141129_cell_20.png',\n",
       " 'C99P60ThinF_IMG_20150918_141129_cell_77.png',\n",
       " 'C96P57ThinF_IMG_20150824_105531_cell_101.png',\n",
       " 'C96P57ThinF_IMG_20150824_111748_cell_5.png',\n",
       " 'C99P60ThinF_IMG_20150918_140900_cell_34.png',\n",
       " 'C96P57ThinF_IMG_20150824_110812_cell_5.png',\n",
       " 'C96P57ThinF_IMG_20150824_105531_cell_172.png',\n",
       " 'C96P57ThinF_IMG_20150824_105445_cell_154.png',\n",
       " 'C97P58ThinF_IMG_20150917_151320_cell_26.png',\n",
       " 'C97P58ThinF_IMG_20150917_145555_cell_103.png',\n",
       " 'C99P60ThinF_IMG_20150918_140900_cell_66.png',\n",
       " 'C97P58ThinF_IMG_20150917_151437_cell_77.png',\n",
       " 'C97P58ThinF_IMG_20150917_151437_cell_67.png',\n",
       " 'C99P60ThinF_IMG_20150918_141314_cell_77.png',\n",
       " 'C99P60ThinF_IMG_20150918_141001_cell_60.png',\n",
       " 'C97P58ThinF_IMG_20150917_145555_cell_157.png',\n",
       " 'C99P60ThinF_IMG_20150918_141520_cell_31.png',\n",
       " 'C99P60ThinF_IMG_20150918_141351_cell_83.png',\n",
       " 'C96P57ThinF_IMG_20150824_112442_cell_156.png',\n",
       " 'C96P57ThinF_IMG_20150824_105531_cell_217.png',\n",
       " 'C98P59ThinF_IMG_20150917_153801_cell_141.png',\n",
       " 'C97P58ThinF_IMG_20150917_151512_cell_146.png',\n",
       " 'C97P58ThinF_IMG_20150917_151551_cell_147.png',\n",
       " 'C98P59ThinF_IMG_20150917_154235_cell_143.png',\n",
       " 'C98P59ThinF_IMG_20150917_153938_cell_10.png',\n",
       " 'C96P57ThinF_IMG_20150824_112132_cell_117.png',\n",
       " 'C98P59ThinF_IMG_20150917_153938_cell_130.png',\n",
       " 'C99P60ThinF_IMG_20150918_141129_cell_21.png',\n",
       " 'C96P57ThinF_IMG_20150824_112442_cell_170.png',\n",
       " 'C98P59ThinF_IMG_20150917_154235_cell_85.png',\n",
       " 'C97P58ThinF_IMG_20150917_151320_cell_119.png',\n",
       " 'C96P57ThinF_IMG_20150824_105531_cell_32.png',\n",
       " 'C99P60ThinF_IMG_20150918_141520_cell_45.png',\n",
       " 'C96P57ThinF_IMG_20150824_110812_cell_18.png',\n",
       " 'C96P57ThinF_IMG_20150824_111748_cell_92.png',\n",
       " 'C97P58ThinF_IMG_20150917_150838_cell_108.png',\n",
       " 'C99P60ThinF_IMG_20150918_141520_cell_64.png',\n",
       " 'C99P60ThinF_IMG_20150918_141129_cell_38.png',\n",
       " 'C98P59ThinF_IMG_20150917_153311_cell_118.png',\n",
       " 'C96P57ThinF_IMG_20150824_111748_cell_169.png',\n",
       " 'C96P57ThinF_IMG_20150824_112442_cell_43.png',\n",
       " 'C97P58ThinF_IMG_20150917_152032_cell_62.png',\n",
       " 'C96P57ThinF_IMG_20150824_112132_cell_25.png',\n",
       " 'C98P59ThinF_IMG_20150917_153801_cell_127.png',\n",
       " 'C96P57ThinF_IMG_20150824_105445_cell_60.png',\n",
       " 'C96P57ThinF_IMG_20150824_105531_cell_207.png',\n",
       " 'C99P60ThinF_IMG_20150918_141001_cell_66.png',\n",
       " 'Thumbs.db',\n",
       " 'C99P60ThinF_IMG_20150918_140900_cell_41.png',\n",
       " 'C97P58ThinF_IMG_20150917_152032_cell_1.png',\n",
       " 'C98P59ThinF_IMG_20150917_153600_cell_130.png',\n",
       " 'C96P57ThinF_IMG_20150824_112442_cell_22.png',\n",
       " 'C96P57ThinF_IMG_20150824_105531_cell_107.png',\n",
       " 'C99P60ThinF_IMG_20150918_141129_cell_84.png',\n",
       " 'C97P58ThinF_IMG_20150917_151437_cell_18.png',\n",
       " 'C97P58ThinF_IMG_20150917_151437_cell_32.png',\n",
       " 'C97P58ThinF_IMG_20150917_145555_cell_94.png',\n",
       " 'C98P59ThinF_IMG_20150917_154452_cell_99.png',\n",
       " 'C97P58ThinF_IMG_20150917_150838_cell_13.png',\n",
       " 'C97P58ThinF_IMG_20150917_152032_cell_6.png',\n",
       " 'C98P59ThinF_IMG_20150917_153600_cell_125.png',\n",
       " 'C98P59ThinF_IMG_20150917_153311_cell_73.png',\n",
       " 'C97P58ThinF_IMG_20150917_151551_cell_41.png',\n",
       " 'C98P59ThinF_IMG_20150917_153030_cell_120.png',\n",
       " 'C96P57ThinF_IMG_20150824_105531_cell_17.png',\n",
       " 'C96P57ThinF_IMG_20150824_105445_cell_17.png',\n",
       " 'C97P58ThinF_IMG_20150917_152032_cell_104.png',\n",
       " 'C96P57ThinF_IMG_20150824_105445_cell_100.png',\n",
       " 'C98P59ThinF_IMG_20150917_154235_cell_128.png',\n",
       " 'C99P60ThinF_IMG_20150918_141520_cell_22.png',\n",
       " 'C96P57ThinF_IMG_20150824_110812_cell_25.png',\n",
       " 'C96P57ThinF_IMG_20150824_112132_cell_187.png',\n",
       " 'C98P59ThinF_IMG_20150917_153938_cell_44.png',\n",
       " 'C99P60ThinF_IMG_20150918_142128_cell_15.png',\n",
       " 'C98P59ThinF_IMG_20150917_153938_cell_111.png',\n",
       " 'C98P59ThinF_IMG_20150917_153801_cell_58.png',\n",
       " 'C97P58ThinF_IMG_20150917_152032_cell_42.png',\n",
       " 'C97P58ThinF_IMG_20150917_145555_cell_74.png',\n",
       " 'C98P59ThinF_IMG_20150917_153030_cell_8.png',\n",
       " 'C99P60ThinF_IMG_20150918_142128_cell_14.png',\n",
       " ...]"
      ]
     },
     "execution_count": 14,
     "metadata": {
      "tags": []
     },
     "output_type": "execute_result"
    }
   ],
   "source": [
    "os.listdir(uninfected_cell)"
   ]
  },
  {
   "cell_type": "markdown",
   "metadata": {
    "id": "cFzygnSzk99_"
   },
   "source": [
    "## Checking if the Classes are balanced"
   ]
  },
  {
   "cell_type": "code",
   "execution_count": 15,
   "metadata": {
    "colab": {
     "base_uri": "https://localhost:8080/"
    },
    "id": "YejMhzNglC21",
    "outputId": "1f6a55ef-92d8-4acd-f1af-9673a3fbc936"
   },
   "outputs": [
    {
     "data": {
      "text/plain": [
       "12479"
      ]
     },
     "execution_count": 15,
     "metadata": {
      "tags": []
     },
     "output_type": "execute_result"
    }
   ],
   "source": [
    "len(os.listdir(infected_cell))"
   ]
  },
  {
   "cell_type": "code",
   "execution_count": 16,
   "metadata": {
    "colab": {
     "base_uri": "https://localhost:8080/"
    },
    "id": "jUVXgLiBlFb2",
    "outputId": "d311d21b-8cf1-4fad-b53a-3e589f24a7f7"
   },
   "outputs": [
    {
     "data": {
      "text/plain": [
       "12480"
      ]
     },
     "execution_count": 16,
     "metadata": {
      "tags": []
     },
     "output_type": "execute_result"
    }
   ],
   "source": [
    "len(os.listdir(uninfected_cell))"
   ]
  },
  {
   "cell_type": "code",
   "execution_count": 17,
   "metadata": {
    "id": "sMtzJsVzlImX"
   },
   "outputs": [],
   "source": [
    "#Balanced"
   ]
  },
  {
   "cell_type": "markdown",
   "metadata": {
    "id": "UbknG0oWlPsT"
   },
   "source": [
    "## Checking  and Finding Average Dimensions for the Images"
   ]
  },
  {
   "cell_type": "code",
   "execution_count": 18,
   "metadata": {
    "id": "CS1U6cFmmsna"
   },
   "outputs": [],
   "source": [
    "from matplotlib.pyplot import  imread"
   ]
  },
  {
   "cell_type": "code",
   "execution_count": 19,
   "metadata": {
    "colab": {
     "base_uri": "https://localhost:8080/",
     "height": 287
    },
    "id": "eZNsY6Y2lZ33",
    "outputId": "e01d599f-ab59-4448-f122-a3bb7ac75b55"
   },
   "outputs": [
    {
     "data": {
      "text/plain": [
       "<matplotlib.image.AxesImage at 0x7fb9bad78f90>"
      ]
     },
     "execution_count": 19,
     "metadata": {
      "tags": []
     },
     "output_type": "execute_result"
    },
    {
     "data": {
      "image/png": "[encoded data removed]",
      "text/plain": [
       "<Figure size 432x288 with 1 Axes>"
      ]
     },
     "metadata": {
      "needs_background": "light",
      "tags": []
     },
     "output_type": "display_data"
    }
   ],
   "source": [
    "plt.imshow(imread(infected_cell+'/C116P77ThinF_IMG_20150930_171954_cell_101.png', ))"
   ]
  },
  {
   "cell_type": "code",
   "execution_count": 20,
   "metadata": {
    "id": "02tSJ-rClVD2"
   },
   "outputs": [],
   "source": [
    "#Finding Dimesnion Distribution in dataset\n",
    "# dim1 = []\n",
    "# dim2 = []\n",
    "# #Reading each file and putting it in imread\n",
    "# for image_name in os.listdir(infected_cell):\n",
    "#   image = imread('cell_images/train/parasitized/'+image_name) \n",
    "#   dm1,dm2,c =  image.shape   #tuple unpacking shape\n",
    "#   dim1.append(dm1)           #appending diff unpacked dimension in array\n",
    "#   dim2.append(dm2)"
   ]
  },
  {
   "cell_type": "code",
   "execution_count": 21,
   "metadata": {
    "id": "Tfy1fjYBnD3L"
   },
   "outputs": [],
   "source": [
    "# np.mean(dim1)"
   ]
  },
  {
   "cell_type": "code",
   "execution_count": 22,
   "metadata": {
    "id": "lTaQsFdynGzH"
   },
   "outputs": [],
   "source": [
    "# np.mean(dim2)"
   ]
  },
  {
   "cell_type": "code",
   "execution_count": 23,
   "metadata": {
    "id": "pAnrVdceuLWK"
   },
   "outputs": [],
   "source": [
    "#We will be using these means as dimesnsions\n",
    "mean_dim = (130,130,3)"
   ]
  },
  {
   "cell_type": "code",
   "execution_count": 24,
   "metadata": {
    "id": "aDmsfZ7ZxM0L"
   },
   "outputs": [],
   "source": [
    "#Plotting Dimsensions\n",
    "# plt.figure(figsize=(8,5))\n",
    "# sns.scatterplot(x=dim1, y=dim2,)"
   ]
  },
  {
   "cell_type": "markdown",
   "metadata": {
    "id": "uYV8GgQ3yYci"
   },
   "source": [
    "## Scaling"
   ]
  },
  {
   "cell_type": "code",
   "execution_count": 25,
   "metadata": {
    "colab": {
     "base_uri": "https://localhost:8080/"
    },
    "id": "gRFAbPdSxcWm",
    "outputId": "71053a6b-332c-4f53-8bd1-2ee88ec60378"
   },
   "outputs": [
    {
     "data": {
      "text/plain": [
       "array([[[0., 0., 0.],\n",
       "        [0., 0., 0.],\n",
       "        [0., 0., 0.],\n",
       "        ...,\n",
       "        [0., 0., 0.],\n",
       "        [0., 0., 0.],\n",
       "        [0., 0., 0.]],\n",
       "\n",
       "       [[0., 0., 0.],\n",
       "        [0., 0., 0.],\n",
       "        [0., 0., 0.],\n",
       "        ...,\n",
       "        [0., 0., 0.],\n",
       "        [0., 0., 0.],\n",
       "        [0., 0., 0.]],\n",
       "\n",
       "       [[0., 0., 0.],\n",
       "        [0., 0., 0.],\n",
       "        [0., 0., 0.],\n",
       "        ...,\n",
       "        [0., 0., 0.],\n",
       "        [0., 0., 0.],\n",
       "        [0., 0., 0.]],\n",
       "\n",
       "       ...,\n",
       "\n",
       "       [[0., 0., 0.],\n",
       "        [0., 0., 0.],\n",
       "        [0., 0., 0.],\n",
       "        ...,\n",
       "        [0., 0., 0.],\n",
       "        [0., 0., 0.],\n",
       "        [0., 0., 0.]],\n",
       "\n",
       "       [[0., 0., 0.],\n",
       "        [0., 0., 0.],\n",
       "        [0., 0., 0.],\n",
       "        ...,\n",
       "        [0., 0., 0.],\n",
       "        [0., 0., 0.],\n",
       "        [0., 0., 0.]],\n",
       "\n",
       "       [[0., 0., 0.],\n",
       "        [0., 0., 0.],\n",
       "        [0., 0., 0.],\n",
       "        ...,\n",
       "        [0., 0., 0.],\n",
       "        [0., 0., 0.],\n",
       "        [0., 0., 0.]]], dtype=float32)"
      ]
     },
     "execution_count": 25,
     "metadata": {
      "tags": []
     },
     "output_type": "execute_result"
    }
   ],
   "source": [
    "temp =imread(infected_cell+'/C116P77ThinF_IMG_20150930_171954_cell_101.png')\n",
    "temp\n",
    "\n",
    "#Already in scaled form no need to scale images and also has color dimension as 3"
   ]
  },
  {
   "cell_type": "code",
   "execution_count": 26,
   "metadata": {
    "colab": {
     "base_uri": "https://localhost:8080/"
    },
    "id": "ekeByu49yBaX",
    "outputId": "fb0224ba-a8e0-4175-b399-787e77729ada"
   },
   "outputs": [
    {
     "data": {
      "text/plain": [
       "(115, 127, 3)"
      ]
     },
     "execution_count": 26,
     "metadata": {
      "tags": []
     },
     "output_type": "execute_result"
    }
   ],
   "source": [
    "temp.shape  #cd = 3"
   ]
  },
  {
   "cell_type": "markdown",
   "metadata": {
    "id": "vog2Eun5zZAD"
   },
   "source": [
    "## Initializing Image Data generator for real time Data Augmentation and Batch Division between Classes (lABELLING)"
   ]
  },
  {
   "cell_type": "markdown",
   "metadata": {
    "id": "lF5HTsxn2sYf"
   },
   "source": [
    "**IMPORTANT**"
   ]
  },
  {
   "cell_type": "code",
   "execution_count": 27,
   "metadata": {
    "id": "exHZktL0ymWm"
   },
   "outputs": [],
   "source": [
    "import tensorflow\n",
    "import tensorflow.keras\n",
    "from tensorflow.keras.preprocessing.image import ImageDataGenerator"
   ]
  },
  {
   "cell_type": "code",
   "execution_count": 28,
   "metadata": {
    "id": "NDytbor6zF2H"
   },
   "outputs": [],
   "source": [
    "image_gen = ImageDataGenerator( height_shift_range=0.1, zoom_range=0.2 ,rotation_range=20,\n",
    "    width_shift_range=0.2,\n",
    "    horizontal_flip=True,\n",
    "    shear_range = 0.1,\n",
    "    fill_mode ='nearest'\n",
    "    \n",
    " )"
   ]
  },
  {
   "cell_type": "code",
   "execution_count": 29,
   "metadata": {
    "colab": {
     "base_uri": "https://localhost:8080/",
     "height": 287
    },
    "id": "djOyueUG3GnH",
    "outputId": "0446fe13-ad9a-419d-80d5-b787b7f405c2"
   },
   "outputs": [
    {
     "data": {
      "text/plain": [
       "<matplotlib.image.AxesImage at 0x7fb97b610a50>"
      ]
     },
     "execution_count": 29,
     "metadata": {
      "tags": []
     },
     "output_type": "execute_result"
    },
    {
     "data": {
      "image/png": "[encoded data removed]",
      "text/plain": [
       "<Figure size 432x288 with 1 Axes>"
      ]
     },
     "metadata": {
      "needs_background": "light",
      "tags": []
     },
     "output_type": "display_data"
    }
   ],
   "source": [
    "#Original Image\n",
    "plt.imshow(temp)"
   ]
  },
  {
   "cell_type": "code",
   "execution_count": 30,
   "metadata": {
    "colab": {
     "base_uri": "https://localhost:8080/",
     "height": 287
    },
    "id": "A-qfLA-6zzYG",
    "outputId": "b3fd85b4-45f8-40c7-8465-8bfd1062dd86"
   },
   "outputs": [
    {
     "data": {
      "text/plain": [
       "<matplotlib.image.AxesImage at 0x7fb97b64bd10>"
      ]
     },
     "execution_count": 30,
     "metadata": {
      "tags": []
     },
     "output_type": "execute_result"
    },
    {
     "data": {
      "image/png": "[encoded data removed]",
      "text/plain": [
       "<Figure size 432x288 with 1 Axes>"
      ]
     },
     "metadata": {
      "needs_background": "light",
      "tags": []
     },
     "output_type": "display_data"
    }
   ],
   "source": [
    "#Above Image Transformed by Image Data Generator according to our parameters\n",
    "#But we wont do it here it will be done real time while creating batches also in fitting step\n",
    "temp = imread(infected_cell+'/C116P77ThinF_IMG_20150930_171954_cell_101.png', )\n",
    "plt.imshow(image_gen.random_transform(temp))"
   ]
  },
  {
   "cell_type": "markdown",
   "metadata": {
    "id": "eLAzfL9U4wyH"
   },
   "source": [
    "# Training"
   ]
  },
  {
   "cell_type": "code",
   "execution_count": 31,
   "metadata": {
    "id": "nEPjr7SQ4y2m"
   },
   "outputs": [],
   "source": [
    "from tensorflow.keras.layers import Dense, Dropout , Flatten , Conv2D , MaxPool2D\n",
    "\n",
    "from tensorflow.keras.models import Sequential\n",
    "\n",
    "from tensorflow.keras.callbacks import EarlyStopping"
   ]
  },
  {
   "cell_type": "code",
   "execution_count": 32,
   "metadata": {
    "colab": {
     "base_uri": "https://localhost:8080/"
    },
    "id": "84qAU11k5AKq",
    "outputId": "c46967ea-b9c7-4858-f758-72106cc138cf"
   },
   "outputs": [
    {
     "name": "stdout",
     "output_type": "stream",
     "text": [
      "Currently selected TF version: 2.x\n",
      "Available versions:\n",
      "* 1.x\n",
      "* 2.x\n"
     ]
    }
   ],
   "source": [
    "%tensorflow_version"
   ]
  },
  {
   "cell_type": "code",
   "execution_count": 33,
   "metadata": {
    "id": "GuHobB6S5Hon"
   },
   "outputs": [],
   "source": [
    "model = Sequential()\n",
    "\n",
    "model.add(Conv2D(filters= 32, kernel_size= (3,3), strides=(1, 1),input_shape=mean_dim  ,activation='relu'    ))\n",
    "model.add(MaxPool2D( pool_size=(2, 2)  ))\n",
    "\n",
    "\n",
    "model.add(Conv2D(filters= 64, kernel_size= (3,3), strides=(1, 1), input_shape=mean_dim,  activation='relu'    )) #meandim=(130,130,3)\n",
    "model.add(MaxPool2D( pool_size=(2, 2)  ))\n",
    "\n",
    "model.add(Conv2D(filters= 64, kernel_size= (3,3), strides=(1, 1), input_shape=mean_dim,  activation='relu'    )) #meandim=(130,130,3)\n",
    "model.add(MaxPool2D( pool_size=(2, 2)  ))\n",
    "\n",
    "\n",
    "model.add(Flatten())\n",
    "\n",
    "#Dense layer\n",
    "model.add(Dense(256 , activation='relu'))\n",
    "\n",
    "#output layer\n",
    "model.add(Dense(1,activation='sigmoid'))\n",
    "\n",
    "\n",
    "\n",
    "\n"
   ]
  },
  {
   "cell_type": "code",
   "execution_count": 34,
   "metadata": {
    "id": "z_SSfzK29WMn"
   },
   "outputs": [],
   "source": [
    "#Compiling\n",
    "model.compile( optimizer='adam', loss='binary_crossentropy', metrics=['accuracy'])"
   ]
  },
  {
   "cell_type": "code",
   "execution_count": 34,
   "metadata": {
    "id": "YTEbDgdc9iiX"
   },
   "outputs": [],
   "source": []
  },
  {
   "cell_type": "markdown",
   "metadata": {
    "id": "7oiIIKaq9kuz"
   },
   "source": [
    "## Important Steps\n",
    "**CREATING ImageDataGenerator FOR REAL TIME DATA AUGMENTATION AND\n",
    "CREATING BATCHES of DaTa and LABELS**\n",
    "\n",
    "**KEEP IN MIND THE FORMAT FOR THIS**"
   ]
  },
  {
   "cell_type": "code",
   "execution_count": 35,
   "metadata": {
    "colab": {
     "base_uri": "https://localhost:8080/"
    },
    "id": "q4-9fahY95YH",
    "outputId": "8809f1f1-d622-4418-e757-00d3c937c569"
   },
   "outputs": [
    {
     "name": "stdout",
     "output_type": "stream",
     "text": [
      "Found 24958 images belonging to 2 classes.\n",
      "Found 2600 images belonging to 2 classes.\n"
     ]
    }
   ],
   "source": [
    "train_gen = image_gen.flow_from_directory(directory=train_dir ,\n",
    "                                          target_size=(130,130), color_mode='rgb',\n",
    "                                         class_mode='binary', batch_size=16, shuffle=True,   )\n",
    "\n",
    "test_gen = image_gen.flow_from_directory(directory=test_dir ,\n",
    "                                          target_size=(130,130), color_mode='rgb',\n",
    "                                        class_mode='binary', batch_size=16 , shuffle=False  )"
   ]
  },
  {
   "cell_type": "code",
   "execution_count": 36,
   "metadata": {
    "id": "bdbIiiQR-RNW"
   },
   "outputs": [],
   "source": [
    "#Early Stoppings\n",
    "callback = EarlyStopping( monitor='val_loss', patience=4, verbose=1, mode='auto',  )"
   ]
  },
  {
   "cell_type": "code",
   "execution_count": 37,
   "metadata": {
    "colab": {
     "base_uri": "https://localhost:8080/"
    },
    "id": "M9iORyV9-QI5",
    "outputId": "cbea65dd-0a07-4b50-d4b8-84465c7ff3e7"
   },
   "outputs": [
    {
     "name": "stdout",
     "output_type": "stream",
     "text": [
      "Epoch 1/25\n",
      "1560/1560 [==============================] - 6118s 4s/step - loss: 0.7357 - accuracy: 0.8597 - val_loss: 0.2699 - val_accuracy: 0.8985\n",
      "Epoch 2/25\n",
      "1560/1560 [==============================] - 189s 121ms/step - loss: 0.2553 - accuracy: 0.9127 - val_loss: 0.2293 - val_accuracy: 0.9192\n",
      "Epoch 3/25\n",
      "1560/1560 [==============================] - 187s 120ms/step - loss: 0.2271 - accuracy: 0.9249 - val_loss: 0.2332 - val_accuracy: 0.9146\n",
      "Epoch 4/25\n",
      "1560/1560 [==============================] - 182s 117ms/step - loss: 0.2171 - accuracy: 0.9280 - val_loss: 0.2199 - val_accuracy: 0.9246\n",
      "Epoch 5/25\n",
      "1560/1560 [==============================] - 182s 117ms/step - loss: 0.2026 - accuracy: 0.9349 - val_loss: 0.2112 - val_accuracy: 0.9219\n",
      "Epoch 6/25\n",
      "1560/1560 [==============================] - 182s 117ms/step - loss: 0.2040 - accuracy: 0.9338 - val_loss: 0.2045 - val_accuracy: 0.9354\n",
      "Epoch 7/25\n",
      "1560/1560 [==============================] - 180s 115ms/step - loss: 0.1985 - accuracy: 0.9353 - val_loss: 0.1875 - val_accuracy: 0.9373\n",
      "Epoch 8/25\n",
      "1560/1560 [==============================] - 181s 116ms/step - loss: 0.1965 - accuracy: 0.9369 - val_loss: 0.1930 - val_accuracy: 0.9381\n",
      "Epoch 9/25\n",
      "1560/1560 [==============================] - 183s 118ms/step - loss: 0.2011 - accuracy: 0.9349 - val_loss: 0.2003 - val_accuracy: 0.9346\n",
      "Epoch 10/25\n",
      "1560/1560 [==============================] - 180s 116ms/step - loss: 0.2011 - accuracy: 0.9355 - val_loss: 0.2034 - val_accuracy: 0.9292\n",
      "Epoch 11/25\n",
      "1560/1560 [==============================] - 181s 116ms/step - loss: 0.1894 - accuracy: 0.9368 - val_loss: 0.2010 - val_accuracy: 0.9338\n",
      "Epoch 00011: early stopping\n"
     ]
    },
    {
     "data": {
      "text/plain": [
       "<tensorflow.python.keras.callbacks.History at 0x7fb970503bd0>"
      ]
     },
     "execution_count": 37,
     "metadata": {
      "tags": []
     },
     "output_type": "execute_result"
    }
   ],
   "source": [
    "#Fitting\n",
    "model.fit(x=train_gen ,validation_data=test_gen ,   epochs=25 , callbacks=[callback],   )"
   ]
  },
  {
   "cell_type": "markdown",
   "metadata": {
    "id": "hLhkJnZb3L1z"
   },
   "source": [
    "## Testing"
   ]
  },
  {
   "cell_type": "code",
   "execution_count": 41,
   "metadata": {
    "colab": {
     "base_uri": "https://localhost:8080/",
     "height": 394
    },
    "id": "HZM7BBrDAZl3",
    "outputId": "0495d3c3-a29b-4ddd-b13b-87a39431be1a"
   },
   "outputs": [
    {
     "data": {
      "text/html": [
       "<div>\n",
       "<style scoped>\n",
       "    .dataframe tbody tr th:only-of-type {\n",
       "        vertical-align: middle;\n",
       "    }\n",
       "\n",
       "    .dataframe tbody tr th {\n",
       "        vertical-align: top;\n",
       "    }\n",
       "\n",
       "    .dataframe thead th {\n",
       "        text-align: right;\n",
       "    }\n",
       "</style>\n",
       "<table border=\"1\" class=\"dataframe\">\n",
       "  <thead>\n",
       "    <tr style=\"text-align: right;\">\n",
       "      <th></th>\n",
       "      <th>loss</th>\n",
       "      <th>accuracy</th>\n",
       "      <th>val_loss</th>\n",
       "      <th>val_accuracy</th>\n",
       "    </tr>\n",
       "  </thead>\n",
       "  <tbody>\n",
       "    <tr>\n",
       "      <th>0</th>\n",
       "      <td>0.735713</td>\n",
       "      <td>0.859684</td>\n",
       "      <td>0.269910</td>\n",
       "      <td>0.898462</td>\n",
       "    </tr>\n",
       "    <tr>\n",
       "      <th>1</th>\n",
       "      <td>0.255338</td>\n",
       "      <td>0.912693</td>\n",
       "      <td>0.229256</td>\n",
       "      <td>0.919231</td>\n",
       "    </tr>\n",
       "    <tr>\n",
       "      <th>2</th>\n",
       "      <td>0.227084</td>\n",
       "      <td>0.924874</td>\n",
       "      <td>0.233225</td>\n",
       "      <td>0.914615</td>\n",
       "    </tr>\n",
       "    <tr>\n",
       "      <th>3</th>\n",
       "      <td>0.217096</td>\n",
       "      <td>0.928039</td>\n",
       "      <td>0.219928</td>\n",
       "      <td>0.924615</td>\n",
       "    </tr>\n",
       "    <tr>\n",
       "      <th>4</th>\n",
       "      <td>0.202592</td>\n",
       "      <td>0.934891</td>\n",
       "      <td>0.211173</td>\n",
       "      <td>0.921923</td>\n",
       "    </tr>\n",
       "    <tr>\n",
       "      <th>5</th>\n",
       "      <td>0.203966</td>\n",
       "      <td>0.933849</td>\n",
       "      <td>0.204534</td>\n",
       "      <td>0.935385</td>\n",
       "    </tr>\n",
       "    <tr>\n",
       "      <th>6</th>\n",
       "      <td>0.198477</td>\n",
       "      <td>0.935331</td>\n",
       "      <td>0.187544</td>\n",
       "      <td>0.937308</td>\n",
       "    </tr>\n",
       "    <tr>\n",
       "      <th>7</th>\n",
       "      <td>0.196525</td>\n",
       "      <td>0.936894</td>\n",
       "      <td>0.193041</td>\n",
       "      <td>0.938077</td>\n",
       "    </tr>\n",
       "    <tr>\n",
       "      <th>8</th>\n",
       "      <td>0.201059</td>\n",
       "      <td>0.934891</td>\n",
       "      <td>0.200314</td>\n",
       "      <td>0.934615</td>\n",
       "    </tr>\n",
       "    <tr>\n",
       "      <th>9</th>\n",
       "      <td>0.201148</td>\n",
       "      <td>0.935492</td>\n",
       "      <td>0.203378</td>\n",
       "      <td>0.929231</td>\n",
       "    </tr>\n",
       "    <tr>\n",
       "      <th>10</th>\n",
       "      <td>0.189370</td>\n",
       "      <td>0.936814</td>\n",
       "      <td>0.201017</td>\n",
       "      <td>0.933846</td>\n",
       "    </tr>\n",
       "  </tbody>\n",
       "</table>\n",
       "</div>"
      ],
      "text/plain": [
       "        loss  accuracy  val_loss  val_accuracy\n",
       "0   0.735713  0.859684  0.269910      0.898462\n",
       "1   0.255338  0.912693  0.229256      0.919231\n",
       "2   0.227084  0.924874  0.233225      0.914615\n",
       "3   0.217096  0.928039  0.219928      0.924615\n",
       "4   0.202592  0.934891  0.211173      0.921923\n",
       "5   0.203966  0.933849  0.204534      0.935385\n",
       "6   0.198477  0.935331  0.187544      0.937308\n",
       "7   0.196525  0.936894  0.193041      0.938077\n",
       "8   0.201059  0.934891  0.200314      0.934615\n",
       "9   0.201148  0.935492  0.203378      0.929231\n",
       "10  0.189370  0.936814  0.201017      0.933846"
      ]
     },
     "execution_count": 41,
     "metadata": {
      "tags": []
     },
     "output_type": "execute_result"
    }
   ],
   "source": [
    "loss = pd.DataFrame(model.history.history)\n",
    "loss"
   ]
  },
  {
   "cell_type": "code",
   "execution_count": 43,
   "metadata": {
    "colab": {
     "base_uri": "https://localhost:8080/",
     "height": 284
    },
    "id": "cdoPzzga3PCH",
    "outputId": "023e9e8c-8c9b-491b-8cca-0031c84e9e8d"
   },
   "outputs": [
    {
     "data": {
      "text/plain": [
       "<matplotlib.axes._subplots.AxesSubplot at 0x7fb8d2090c50>"
      ]
     },
     "execution_count": 43,
     "metadata": {
      "tags": []
     },
     "output_type": "execute_result"
    },
    {
     "data": {
      "image/png": "[encoded data removed]",
      "text/plain": [
       "<Figure size 432x288 with 1 Axes>"
      ]
     },
     "metadata": {
      "needs_background": "light",
      "tags": []
     },
     "output_type": "display_data"
    }
   ],
   "source": [
    "#Loss\n",
    "loss[['loss','val_loss']].plot()"
   ]
  },
  {
   "cell_type": "code",
   "execution_count": 44,
   "metadata": {
    "colab": {
     "base_uri": "https://localhost:8080/",
     "height": 284
    },
    "id": "4IoqLF3q3PRw",
    "outputId": "23f323d5-e495-4e1c-a7f1-04735cd38d15"
   },
   "outputs": [
    {
     "data": {
      "text/plain": [
       "<matplotlib.axes._subplots.AxesSubplot at 0x7fb8d1f75190>"
      ]
     },
     "execution_count": 44,
     "metadata": {
      "tags": []
     },
     "output_type": "execute_result"
    },
    {
     "data": {
      "image/png": "[encoded data removed]",
      "text/plain": [
       "<Figure size 432x288 with 1 Axes>"
      ]
     },
     "metadata": {
      "needs_background": "light",
      "tags": []
     },
     "output_type": "display_data"
    }
   ],
   "source": [
    "#Accuracy\n",
    "loss[['accuracy','val_accuracy']].plot()"
   ]
  },
  {
   "cell_type": "code",
   "execution_count": 45,
   "metadata": {
    "id": "Vwe1hX2T3h15"
   },
   "outputs": [],
   "source": [
    "from sklearn.metrics import confusion_matrix , classification_report"
   ]
  },
  {
   "cell_type": "code",
   "execution_count": 47,
   "metadata": {
    "colab": {
     "base_uri": "https://localhost:8080/"
    },
    "id": "ms1vXbzz3o-Z",
    "outputId": "42eed13a-7e09-4e7f-888e-ea989b8c3397"
   },
   "outputs": [
    {
     "name": "stderr",
     "output_type": "stream",
     "text": [
      "/usr/local/lib/python3.7/dist-packages/tensorflow/python/keras/engine/training.py:2001: UserWarning: `Model.predict_generator` is deprecated and will be removed in a future version. Please use `Model.predict`, which supports generators.\n",
      "  warnings.warn('`Model.predict_generator` is deprecated and '\n"
     ]
    }
   ],
   "source": [
    "#Predict on augmented test_gen\n",
    "predict = model.predict_generator(test_gen)"
   ]
  },
  {
   "cell_type": "code",
   "execution_count": 57,
   "metadata": {
    "colab": {
     "base_uri": "https://localhost:8080/"
    },
    "id": "bq9Ks5pA5hs1",
    "outputId": "569f9764-2ed7-457f-ce08-ce2433ab8ac3"
   },
   "outputs": [
    {
     "data": {
      "text/plain": [
       "array([[0.00155114],\n",
       "       [0.00957152],\n",
       "       [0.01456816],\n",
       "       ...,\n",
       "       [0.94833326],\n",
       "       [0.9425266 ],\n",
       "       [0.6895611 ]], dtype=float32)"
      ]
     },
     "execution_count": 57,
     "metadata": {
      "tags": []
     },
     "output_type": "execute_result"
    }
   ],
   "source": [
    "predict"
   ]
  },
  {
   "cell_type": "markdown",
   "metadata": {
    "id": "3FDabRX05kcy"
   },
   "source": [
    "**Convert into either 1 or 0  if grearter than 80% prob convert into 1 uninfected**"
   ]
  },
  {
   "cell_type": "code",
   "execution_count": 59,
   "metadata": {
    "colab": {
     "base_uri": "https://localhost:8080/"
    },
    "id": "b8_glp5t5h1R",
    "outputId": "89bf558c-3973-4378-8631-e686b174b25c"
   },
   "outputs": [
    {
     "data": {
      "text/plain": [
       "array([[False],\n",
       "       [False],\n",
       "       [False],\n",
       "       ...,\n",
       "       [ True],\n",
       "       [ True],\n",
       "       [False]])"
      ]
     },
     "execution_count": 59,
     "metadata": {
      "tags": []
     },
     "output_type": "execute_result"
    }
   ],
   "source": [
    "predict = predict>0.80\n",
    "predict"
   ]
  },
  {
   "cell_type": "markdown",
   "metadata": {
    "id": "dEgoL-vl4sqI"
   },
   "source": [
    "## *Y_TEST?*"
   ]
  },
  {
   "cell_type": "code",
   "execution_count": 49,
   "metadata": {
    "colab": {
     "base_uri": "https://localhost:8080/"
    },
    "id": "dazRJkBe4waK",
    "outputId": "ffc8ef0c-033f-42a8-ff41-600ed178a964"
   },
   "outputs": [
    {
     "data": {
      "text/plain": [
       "{'parasitized': 0, 'uninfected': 1}"
      ]
     },
     "execution_count": 49,
     "metadata": {
      "tags": []
     },
     "output_type": "execute_result"
    }
   ],
   "source": [
    "test_gen.class_indices\n"
   ]
  },
  {
   "cell_type": "code",
   "execution_count": 53,
   "metadata": {
    "colab": {
     "base_uri": "https://localhost:8080/"
    },
    "id": "-dH8F-bA47PK",
    "outputId": "3f580d49-73a9-4575-8538-84f50a49d1ef"
   },
   "outputs": [
    {
     "data": {
      "text/plain": [
       "array([0, 0, 0, ..., 1, 1, 1], dtype=int32)"
      ]
     },
     "execution_count": 53,
     "metadata": {
      "tags": []
     },
     "output_type": "execute_result"
    }
   ],
   "source": [
    "##YTEST Stored here\n",
    "y_test = test_gen.labels\n",
    "y_test"
   ]
  },
  {
   "cell_type": "code",
   "execution_count": 60,
   "metadata": {
    "colab": {
     "base_uri": "https://localhost:8080/"
    },
    "id": "OGBAnu7R5Ea5",
    "outputId": "590972a7-bee7-4c2a-ca0e-e3ff4a81e3da"
   },
   "outputs": [
    {
     "name": "stdout",
     "output_type": "stream",
     "text": [
      "[[1212   88]\n",
      " [ 126 1174]]\n"
     ]
    }
   ],
   "source": [
    "#Confusion Matrix\n",
    "print(confusion_matrix(y_test, predict))"
   ]
  },
  {
   "cell_type": "code",
   "execution_count": 61,
   "metadata": {
    "colab": {
     "base_uri": "https://localhost:8080/"
    },
    "id": "pN5oIYMl5Fh6",
    "outputId": "40626c4d-d330-4985-d63b-8dde6a1571a8"
   },
   "outputs": [
    {
     "name": "stdout",
     "output_type": "stream",
     "text": [
      "              precision    recall  f1-score   support\n",
      "\n",
      "           0       0.91      0.93      0.92      1300\n",
      "           1       0.93      0.90      0.92      1300\n",
      "\n",
      "    accuracy                           0.92      2600\n",
      "   macro avg       0.92      0.92      0.92      2600\n",
      "weighted avg       0.92      0.92      0.92      2600\n",
      "\n"
     ]
    }
   ],
   "source": [
    "#Classification Report\n",
    "print(classification_report(y_test, predict))\n",
    "\n",
    "#92 accuracy in both cases"
   ]
  },
  {
   "cell_type": "markdown",
   "metadata": {
    "id": "3XdSp6Ji7e4_"
   },
   "source": [
    "# Custom Data"
   ]
  },
  {
   "cell_type": "markdown",
   "metadata": {
    "id": "v2UQHOZzAprc"
   },
   "source": [
    "**Load Custom Data using image in keras (WHich allows to output data in given dimension bcz we only predict on images with 1,130,130,3 dim**"
   ]
  },
  {
   "cell_type": "code",
   "execution_count": 97,
   "metadata": {
    "id": "wZHOAu6IAm5f"
   },
   "outputs": [],
   "source": [
    "from tensorflow.keras.preprocessing import image"
   ]
  },
  {
   "cell_type": "code",
   "execution_count": 146,
   "metadata": {
    "id": "M6-DssJWFSYS"
   },
   "outputs": [],
   "source": [
    "classes = {\n",
    "    0 :\"parasitized_cell\",\n",
    "    1 : \"uninfected_cell\"\n",
    "\n",
    "\n",
    "}"
   ]
  },
  {
   "cell_type": "code",
   "execution_count": 70,
   "metadata": {
    "colab": {
     "base_uri": "https://localhost:8080/",
     "height": 36
    },
    "id": "Iq5jFNPO6j4Z",
    "outputId": "cf4054a4-b95f-4bbd-8cba-89cd7f09dda0"
   },
   "outputs": [
    {
     "data": {
      "application/vnd.google.colaboratory.intrinsic+json": {
       "type": "string"
      },
      "text/plain": [
       "'C132P93ThinF_IMG_20151004_153030_cell_10.png'"
      ]
     },
     "execution_count": 70,
     "metadata": {
      "tags": []
     },
     "output_type": "execute_result"
    }
   ],
   "source": [
    "os.listdir(test_dir+'/parasitized')[2]"
   ]
  },
  {
   "cell_type": "code",
   "execution_count": 135,
   "metadata": {
    "id": "no2ZSHRdAmn7"
   },
   "outputs": [],
   "source": [
    "#load image in image_loadimage in given dimensions 130,130\n",
    "custom = image.load_img(path=test_dir+'/parasitized/C132P93ThinF_IMG_20151004_153030_cell_10.png', target_size=(130,130,3))\n",
    "\n"
   ]
  },
  {
   "cell_type": "code",
   "execution_count": 136,
   "metadata": {
    "colab": {
     "base_uri": "https://localhost:8080/",
     "height": 147
    },
    "id": "IYDmIUz_DYKT",
    "outputId": "d5c22f6d-4b1f-43ae-a060-817d1ed1c248"
   },
   "outputs": [
    {
     "data": {
      "image/png": "[encoded data removed]",
      "text/plain": [
       "<PIL.Image.Image image mode=RGB size=130x130 at 0x7FB8CE63F6D0>"
      ]
     },
     "execution_count": 136,
     "metadata": {
      "tags": []
     },
     "output_type": "execute_result"
    }
   ],
   "source": [
    "#true image\n",
    "custom"
   ]
  },
  {
   "cell_type": "code",
   "execution_count": 147,
   "metadata": {
    "colab": {
     "base_uri": "https://localhost:8080/",
     "height": 36
    },
    "id": "_ui2vXd87Hnp",
    "outputId": "712032b0-6dc4-4256-f394-4099270b45e1"
   },
   "outputs": [
    {
     "data": {
      "application/vnd.google.colaboratory.intrinsic+json": {
       "type": "string"
      },
      "text/plain": [
       "'parasitized_cell'"
      ]
     },
     "execution_count": 147,
     "metadata": {
      "tags": []
     },
     "output_type": "execute_result"
    }
   ],
   "source": [
    "#True LABEL  0=parasitized we are prdciting on test [2]\n",
    "\n",
    "classes[y_test[2]]"
   ]
  },
  {
   "cell_type": "code",
   "execution_count": 138,
   "metadata": {
    "id": "oiqhShh-8Ak6"
   },
   "outputs": [],
   "source": [
    "#OUR PREDICitions\n",
    "#convert back in array to be predicted\n",
    "custom_arrayformat = image.img_to_array(custom)\n",
    "\n",
    "#adding extra dimension\n",
    "custom_arrayformat = np.expand_dims(custom , axis=0)  #adding one extra dimension 1 in image 1,130,130\n",
    "\n"
   ]
  },
  {
   "cell_type": "code",
   "execution_count": 139,
   "metadata": {
    "colab": {
     "base_uri": "https://localhost:8080/"
    },
    "id": "kdisYOkU9jdJ",
    "outputId": "cba2e5e4-4a2e-4ca9-feef-ad87f6d33f91"
   },
   "outputs": [
    {
     "data": {
      "text/plain": [
       "(1, 130, 130, 3)"
      ]
     },
     "execution_count": 139,
     "metadata": {
      "tags": []
     },
     "output_type": "execute_result"
    }
   ],
   "source": [
    "custom_arrayformat.shape"
   ]
  },
  {
   "cell_type": "code",
   "execution_count": 149,
   "metadata": {
    "colab": {
     "base_uri": "https://localhost:8080/",
     "height": 94
    },
    "id": "upMwpskv-ZXr",
    "outputId": "5b07a849-9ff9-4fb2-fa4d-3880a1d1f8f3"
   },
   "outputs": [
    {
     "name": "stderr",
     "output_type": "stream",
     "text": [
      "/usr/local/lib/python3.7/dist-packages/tensorflow/python/keras/engine/sequential.py:455: UserWarning: `model.predict_classes()` is deprecated and will be removed after 2021-01-01. Please use instead:* `np.argmax(model.predict(x), axis=-1)`,   if your model does multi-class classification   (e.g. if it uses a `softmax` last-layer activation).* `(model.predict(x) > 0.5).astype(\"int32\")`,   if your model does binary classification   (e.g. if it uses a `sigmoid` last-layer activation).\n",
      "  warnings.warn('`model.predict_classes()` is deprecated and '\n"
     ]
    },
    {
     "data": {
      "application/vnd.google.colaboratory.intrinsic+json": {
       "type": "string"
      },
      "text/plain": [
       "'parasitized_cell'"
      ]
     },
     "execution_count": 149,
     "metadata": {
      "tags": []
     },
     "output_type": "execute_result"
    }
   ],
   "source": [
    "#also predicted parasitized\n",
    "predict = model.predict_classes(custom_arrayformat)\n",
    "predict = int(predict)\n",
    "classes[predict]  "
   ]
  },
  {
   "cell_type": "code",
   "execution_count": null,
   "metadata": {
    "id": "-pvsVQuEEqiK"
   },
   "outputs": [],
   "source": []
  },
  {
   "cell_type": "markdown",
   "metadata": {
    "id": "yNk9Di7JFuJF"
   },
   "source": [
    "## Saving"
   ]
  },
  {
   "cell_type": "code",
   "execution_count": 150,
   "metadata": {
    "id": "9hI5M6J8FvPK"
   },
   "outputs": [],
   "source": [
    "model.save(\"Malaria Predictor.h5\")"
   ]
  },
  {
   "cell_type": "code",
   "execution_count": null,
   "metadata": {
    "id": "0qbKr1t_GLLq"
   },
   "outputs": [],
   "source": []
  }
 ],
 "metadata": {
  "accelerator": "GPU",
  "colab": {
   "collapsed_sections": [],
   "name": "MalariaPrediction.ipynb",
   "provenance": []
  },
  "kernelspec": {
   "display_name": "Python 3",
   "language": "python",
   "name": "python3"
  },
  "language_info": {
   "codemirror_mode": {
    "name": "ipython",
    "version": 3
   },
   "file_extension": ".py",
   "mimetype": "text/x-python",
   "name": "python",
   "nbconvert_exporter": "python",
   "pygments_lexer": "ipython3",
   "version": "3.8.5"
  }
 },
 "nbformat": 4,
 "nbformat_minor": 1
}
